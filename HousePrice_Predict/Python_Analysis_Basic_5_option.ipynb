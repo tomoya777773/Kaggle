{
 "cells": [
  {
   "cell_type": "markdown",
   "metadata": {},
   "source": [
    "# 事前環境設定"
   ]
  },
  {
   "cell_type": "code",
   "execution_count": null,
   "metadata": {
    "collapsed": true
   },
   "outputs": [],
   "source": [
    "import pandas as pd\n",
    "import numpy as np\n",
    "import seaborn as sns\n",
    "import matplotlib.pyplot as plt\n",
    "from sklearn.linear_model import LinearRegression\n",
    "import statsmodels.api as stat\n",
    "import warnings\n",
    "from sklearn.metrics import mean_squared_error\n",
    "def rmse(y_true, y_pred):\n",
    "    return np.sqrt(mean_squared_error(y_true, y_pred))\n",
    "warnings.simplefilter(\"ignore\")\n",
    "%matplotlib inline"
   ]
  },
  {
   "cell_type": "code",
   "execution_count": null,
   "metadata": {
    "collapsed": true
   },
   "outputs": [],
   "source": [
    "df_train = pd.read_csv('./train.csv')\n",
    "df_test = pd.read_csv('./test.csv')"
   ]
  },
  {
   "cell_type": "markdown",
   "metadata": {},
   "source": [
    "# 相関係数表"
   ]
  },
  {
   "cell_type": "code",
   "execution_count": null,
   "metadata": {
    "collapsed": true
   },
   "outputs": [],
   "source": [
    "corrmat = df_train.corr()\n",
    "corrmat"
   ]
  },
  {
   "cell_type": "code",
   "execution_count": null,
   "metadata": {
    "collapsed": true
   },
   "outputs": [],
   "source": [
    "# 相関関係表によりheatmapを作成\n",
    "f,ax = plt.subplots(figsize=(12,9))\n",
    "sns.heatmap(corrmat,vmax=.8,square=True)\n",
    "plt.show()"
   ]
  },
  {
   "cell_type": "markdown",
   "metadata": {},
   "source": [
    "## 例：価格と強い相関のある変数（数値型）10個抽出、中の一つを前回のモデルに追加"
   ]
  },
  {
   "cell_type": "code",
   "execution_count": null,
   "metadata": {
    "collapsed": true,
    "scrolled": true
   },
   "outputs": [],
   "source": [
    "corrmat['SalePrice'] = abs(corrmat['SalePrice'])\n",
    "ana_list = corrmat['SalePrice'].sort_values().tail(4)\n",
    "ana_list.plot(kind='barh')"
   ]
  },
  {
   "cell_type": "markdown",
   "metadata": {},
   "source": [
    "# 可視化"
   ]
  },
  {
   "cell_type": "code",
   "execution_count": null,
   "metadata": {
    "collapsed": true
   },
   "outputs": [],
   "source": [
    "plt.scatter(df_train['SalePrice'],df_train['GarageCars'])\n",
    "plt.show();"
   ]
  },
  {
   "cell_type": "code",
   "execution_count": null,
   "metadata": {
    "collapsed": true,
    "scrolled": true
   },
   "outputs": [],
   "source": [
    "df_train.groupby('GarageCars',as_index=False).SalePrice.median()"
   ]
  },
  {
   "cell_type": "code",
   "execution_count": null,
   "metadata": {
    "collapsed": true
   },
   "outputs": [],
   "source": [
    "df_train.groupby('GarageCars',as_index=False).GarageArea.median()"
   ]
  },
  {
   "cell_type": "code",
   "execution_count": null,
   "metadata": {
    "collapsed": true
   },
   "outputs": [],
   "source": [
    "len(df_train.loc[df_train['GarageCars']==4])"
   ]
  },
  {
   "cell_type": "code",
   "execution_count": null,
   "metadata": {
    "collapsed": true,
    "scrolled": false
   },
   "outputs": [],
   "source": [
    "plt.hist(df_train['GarageCars'])\n",
    "plt.show()\n",
    "plt.plot(df_train.groupby('GarageCars').GarageArea.mean())\n",
    "plt.plot(df_test.groupby('GarageCars').GarageArea.mean())"
   ]
  },
  {
   "cell_type": "code",
   "execution_count": null,
   "metadata": {
    "collapsed": true
   },
   "outputs": [],
   "source": [
    "df_train.drop(df_train.loc[df_train['GarageCars']==4].index,inplace=True)\n",
    "df_train.index=range(len(df_train))"
   ]
  },
  {
   "cell_type": "code",
   "execution_count": null,
   "metadata": {
    "collapsed": true
   },
   "outputs": [],
   "source": [
    "df_train.drop(df_train[df_train['GrLivArea']>=4000].index,inplace=True)\n",
    "df_train_shrinked=df_train.loc[:,['GrLivArea','YearBuilt','OverallCond','BsmtQual','GarageCars','SalePrice']]\n",
    "df_x=df_train_shrinked\n",
    "df_y=df_train_shrinked['SalePrice']\n",
    "del df_x['SalePrice']\n",
    "\n",
    "for i in df_x.columns:\n",
    "    if sum(df_x[i].isnull())>0:\n",
    "        print(i)\n",
    "df_x.loc[df_x['BsmtQual'].isnull()==True,'BsmtQual']='NA'\n",
    "df_x=pd.get_dummies(df_x)\n",
    "df_x.head(2)"
   ]
  },
  {
   "cell_type": "code",
   "execution_count": null,
   "metadata": {
    "collapsed": true
   },
   "outputs": [],
   "source": [
    "def preprocess(train_flg):\n",
    "    if train_flg:\n",
    "        df = pd.read_csv('./train.csv')\n",
    "        df.drop(df[df['GrLivArea']>=4000].index,inplace=True)\n",
    "        df.drop(df.loc[df['GarageCars']==4].index,inplace=True)\n",
    "        df.index=range(len(df))\n",
    "        df_y=df['SalePrice']\n",
    "    else:\n",
    "        df = pd.read_csv('./test.csv')\n",
    "    cols=['GrLivArea','YearBuilt','OverallCond','BsmtQual','GarageCars']\n",
    "    df_x = df.loc[:,cols]\n",
    "    df_x.loc[df_x['BsmtQual'].isnull()==True,'BsmtQual']='NA'\n",
    "    df_x=pd.get_dummies(df_x)\n",
    "    if train_flg:\n",
    "        return df_x,df_y\n",
    "    else:\n",
    "        return df_x"
   ]
  },
  {
   "cell_type": "code",
   "execution_count": null,
   "metadata": {
    "collapsed": true
   },
   "outputs": [],
   "source": [
    "df_x,df_y=preprocess(True)"
   ]
  },
  {
   "cell_type": "code",
   "execution_count": null,
   "metadata": {
    "collapsed": true,
    "scrolled": false
   },
   "outputs": [],
   "source": [
    "clf = stat.OLS(df_y,df_x)\n",
    "result = clf.fit()\n",
    "result.summary()"
   ]
  },
  {
   "cell_type": "code",
   "execution_count": null,
   "metadata": {
    "collapsed": true
   },
   "outputs": [],
   "source": [
    "clf=LinearRegression()\n",
    "clf.fit(df_x,df_y)\n",
    "print('RMSE:{0}'.format(rmse(clf.predict(df_x),df_y)))\n",
    "sns.regplot(clf.predict(df_x),df_y)\n",
    "plt.title('pred vs real')\n",
    "plt.show()\n",
    "coef=pd.Series(clf.coef_, index = df_x.columns)\n",
    "coef.sort_values(ascending=True).plot('barh')\n",
    "plt.title('Coefficients in the Linear Model')"
   ]
  },
  {
   "cell_type": "markdown",
   "metadata": {},
   "source": [
    "# テストセットの予測"
   ]
  },
  {
   "cell_type": "code",
   "execution_count": null,
   "metadata": {
    "collapsed": true
   },
   "outputs": [],
   "source": [
    "df_test_x = preprocess(False)"
   ]
  },
  {
   "cell_type": "markdown",
   "metadata": {},
   "source": [
    "# テストセットの欠損値検出"
   ]
  },
  {
   "cell_type": "code",
   "execution_count": null,
   "metadata": {
    "collapsed": true
   },
   "outputs": [],
   "source": [
    "for i in df_test_x.columns:\n",
    "    if df_test_x[i].isnull().sum()>0:\n",
    "        print(i,df_test_x[i].isnull().sum(),df_test_x[i].dtype)"
   ]
  },
  {
   "cell_type": "code",
   "execution_count": null,
   "metadata": {
    "collapsed": true,
    "scrolled": false
   },
   "outputs": [],
   "source": [
    "df_test_x.loc[df_test_x['GarageCars'].isnull()]"
   ]
  },
  {
   "cell_type": "code",
   "execution_count": null,
   "metadata": {
    "collapsed": true
   },
   "outputs": [],
   "source": [
    "df_test.loc[1116]"
   ]
  },
  {
   "cell_type": "code",
   "execution_count": null,
   "metadata": {
    "collapsed": true,
    "scrolled": false
   },
   "outputs": [],
   "source": [
    "df_test_x.loc[df_test_x['GarageCars'].isnull(),'GarageCars']=0"
   ]
  },
  {
   "cell_type": "code",
   "execution_count": null,
   "metadata": {
    "collapsed": true
   },
   "outputs": [],
   "source": [
    "# 個別の処理も統合処理関数に追加\n",
    "def preprocess(train_flg):\n",
    "    if train_flg:\n",
    "        df = pd.read_csv('./train.csv')\n",
    "        df.drop(df[df['GrLivArea']>=4000].index,inplace=True)\n",
    "        df.drop(df.loc[df['GarageCars']==4].index,inplace=True)\n",
    "        df.index=range(len(df))\n",
    "        df_y=df['SalePrice']\n",
    "    else:\n",
    "        df = pd.read_csv('./test.csv')\n",
    "    cols=['GrLivArea','YearBuilt','OverallCond','BsmtQual','GarageCars']\n",
    "    df_x = df.loc[:,cols]\n",
    "    df_x.loc[df_x['BsmtQual'].isnull()==True,'BsmtQual']='NA'\n",
    "    df_x.loc[df_x['GarageCars'].isnull()==True,'GarageCars']=0\n",
    "    df_x=pd.get_dummies(df_x)\n",
    "    if train_flg:\n",
    "        return df_x,df_y\n",
    "    else:\n",
    "        return df_x,df['Id']"
   ]
  },
  {
   "cell_type": "code",
   "execution_count": null,
   "metadata": {
    "collapsed": true
   },
   "outputs": [],
   "source": [
    "df_test_x,df_test_id=preprocess(False)"
   ]
  },
  {
   "cell_type": "code",
   "execution_count": null,
   "metadata": {
    "collapsed": true
   },
   "outputs": [],
   "source": [
    "# 上記の線形モデルで価格を予測、CSV出力\n",
    "y_pred=clf.predict(df_test_x)\n",
    "pred_df=pd.DataFrame(y_pred, index=df_test_id, columns=[\"SalePrice\"])\n",
    "pred_df.to_csv('./output.csv', header=True, index_label='Id')"
   ]
  },
  {
   "cell_type": "markdown",
   "metadata": {},
   "source": [
    "#### 線形回帰以外に、使うデータによりもっと精度のいいモデルもいくつかあります。\n",
    "#### sklearnにはRandomForest、GradientBoosting、以外にXGBoost、LightGBMなど、お時間のある方はお試してみてください。\n",
    "#### インストールとチューニングの時間を含んで考えると、RandomForestとGradientBoostingはオススメです。\n",
    "#### これらのモデルはモデルの中身がどうなっているかは明白ではありませんが、どの変数がモデル精度向上に貢献したかを出力することができます（.feature\\_importances\\_）。"
   ]
  },
  {
   "cell_type": "code",
   "execution_count": null,
   "metadata": {
    "collapsed": true
   },
   "outputs": [],
   "source": []
  }
 ],
 "metadata": {
  "kernelspec": {
   "display_name": "Python 3",
   "language": "python",
   "name": "python3"
  },
  "language_info": {
   "codemirror_mode": {
    "name": "ipython",
    "version": 3
   },
   "file_extension": ".py",
   "mimetype": "text/x-python",
   "name": "python",
   "nbconvert_exporter": "python",
   "pygments_lexer": "ipython3",
   "version": "3.6.1"
  }
 },
 "nbformat": 4,
 "nbformat_minor": 2
}
