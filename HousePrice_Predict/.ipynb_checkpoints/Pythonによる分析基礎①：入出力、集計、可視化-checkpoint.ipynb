{
 "cells": [
  {
   "cell_type": "markdown",
   "metadata": {},
   "source": [
    "# 事前環境設定"
   ]
  },
  {
   "cell_type": "markdown",
   "metadata": {},
   "source": [
    "・分析に利用するライブラリをインストールする"
   ]
  },
  {
   "cell_type": "code",
   "execution_count": null,
   "metadata": {
    "collapsed": true
   },
   "outputs": [],
   "source": [
    "# ライブラリの読み込み\n",
    "import os\n",
    "import scipy as sp\n",
    "import numpy as np\n",
    "import sklearn\n",
    "import pandas as pd\n",
    "import matplotlib.pyplot as plt\n",
    "import seaborn as sns\n",
    "# グラフをインラインで表示させる\n",
    "%matplotlib inline"
   ]
  },
  {
   "cell_type": "markdown",
   "metadata": {},
   "source": [
    "# 入出力"
   ]
  },
  {
   "cell_type": "markdown",
   "metadata": {},
   "source": [
    "## 分析用データの読込"
   ]
  },
  {
   "cell_type": "markdown",
   "metadata": {},
   "source": [
    "### Pandasはデータの入出力や加工のライブラリ。データフレームという考え方で、Excelのピボットテーブルのように集計や、より複雑な加工が出来ます。"
   ]
  },
  {
   "cell_type": "markdown",
   "metadata": {},
   "source": [
    "・Pythonのカレントディレクトリを確認し、分析利用データ（train.csv）をコピーします。"
   ]
  },
  {
   "cell_type": "code",
   "execution_count": null,
   "metadata": {
    "collapsed": true
   },
   "outputs": [],
   "source": [
    "os.getcwd()"
   ]
  },
  {
   "cell_type": "markdown",
   "metadata": {},
   "source": [
    "・分析利用データ（train.csv）を読込ます。read_csv()でデータ読込。 必要に応じ、delimiterで区切り文字を指定する。デフォルトでは\",\"。<br>\n",
    "・df_train = pd.read_csv('カレントディレクトリ/ファイル名', delimiter=\",\") ）"
   ]
  },
  {
   "cell_type": "code",
   "execution_count": null,
   "metadata": {
    "collapsed": true
   },
   "outputs": [],
   "source": [
    "df_train = pd.read_csv('./train.csv',delimiter=\",\")"
   ]
  },
  {
   "cell_type": "markdown",
   "metadata": {},
   "source": [
    "### 読み込んだデータをチェックします。<br>\n",
    "チェックのポイント<br>\n",
    " ①データを俯瞰（先頭/末尾）<br>\n",
    " ②データの行数・列数は正しいか？<br>\n",
    " ③データの項目が正しいか？<br>\n",
    " ④データ型は適切か？<br>"
   ]
  },
  {
   "cell_type": "code",
   "execution_count": null,
   "metadata": {
    "collapsed": true,
    "scrolled": true
   },
   "outputs": [],
   "source": [
    "# ①データを俯瞰（先頭）\n",
    "df_train.head(10)  "
   ]
  },
  {
   "cell_type": "code",
   "execution_count": null,
   "metadata": {
    "collapsed": true
   },
   "outputs": [],
   "source": [
    "# ①データを俯瞰（末尾）\n",
    "df_train.tail()  "
   ]
  },
  {
   "cell_type": "code",
   "execution_count": null,
   "metadata": {
    "collapsed": true
   },
   "outputs": [],
   "source": [
    "#②データの行数・列数は正しいか？\n",
    "df_train.shape"
   ]
  },
  {
   "cell_type": "code",
   "execution_count": null,
   "metadata": {
    "collapsed": true
   },
   "outputs": [],
   "source": [
    "#③データの項目が正しいか？\n",
    "df_train.columns"
   ]
  },
  {
   "cell_type": "code",
   "execution_count": null,
   "metadata": {
    "collapsed": true,
    "scrolled": true
   },
   "outputs": [],
   "source": [
    "#④データ型は適切か？\n",
    "df_train[\"SalePrice\"].dtypes"
   ]
  },
  {
   "cell_type": "markdown",
   "metadata": {},
   "source": [
    "# データの抽出・加工"
   ]
  },
  {
   "cell_type": "markdown",
   "metadata": {},
   "source": [
    "基本的なデータ型とデータ構造と制御構造については、以下URLを参照ください。 <br>\n",
    "http://www.geocities.jp/m_hiroi/light/python01.html"
   ]
  },
  {
   "cell_type": "markdown",
   "metadata": {},
   "source": [
    "データの抽出、加工の詳細については、以下URLを参照ください。<br>\n",
    "Pandas でデータフレームを扱う<br>\n",
    "http://pythondatascience.plavox.info/pandas"
   ]
  },
  {
   "cell_type": "markdown",
   "metadata": {},
   "source": [
    "# データの集計"
   ]
  },
  {
   "cell_type": "markdown",
   "metadata": {},
   "source": [
    "・データの現状を把握すべく、各変数の平均や標準偏差などの代表値（基本統計量）を算出したり、可視化（グラフ）します。<br>\n",
    "\n",
    "・まずは予測したい対象（目的変数）であるSalePriceを見てみましょう。（変数を指定しない場合、データフレーム全体を結果として戻します。）<br>\n",
    "※各種統計量の算出方法は以下を参照（P12）<br>\n",
    "https://www.slideshare.net/DataScientist_JP/01-python"
   ]
  },
  {
   "cell_type": "code",
   "execution_count": null,
   "metadata": {
    "collapsed": true
   },
   "outputs": [],
   "source": [
    "#平均\n",
    "df_train.SalePrice.mean() "
   ]
  },
  {
   "cell_type": "code",
   "execution_count": null,
   "metadata": {
    "collapsed": true
   },
   "outputs": [],
   "source": [
    "#標準偏差\n",
    "df_train.SalePrice.std() "
   ]
  },
  {
   "cell_type": "code",
   "execution_count": null,
   "metadata": {
    "collapsed": true
   },
   "outputs": [],
   "source": [
    "#基本統計量をまとめて算出（件数、平均、標準偏差、最小、四分位、最大）\n",
    "df_train.SalePrice.describe()"
   ]
  },
  {
   "cell_type": "code",
   "execution_count": null,
   "metadata": {
    "collapsed": true
   },
   "outputs": [],
   "source": [
    "#家のコンディション評価別の平均SalePrice\n",
    "df_train.groupby(\"OverallCond\").SalePrice.mean() "
   ]
  },
  {
   "cell_type": "code",
   "execution_count": null,
   "metadata": {
    "collapsed": true
   },
   "outputs": [],
   "source": [
    "#家のコンディション評価別のデータ件数\n",
    "df_train.groupby(\"OverallCond\").SalePrice.count() "
   ]
  },
  {
   "cell_type": "markdown",
   "metadata": {
    "collapsed": true
   },
   "source": [
    "# データの可視化"
   ]
  },
  {
   "cell_type": "markdown",
   "metadata": {},
   "source": [
    "・データの現状を把握すべく、各変数の平均や標準偏差などの代表値（基本統計量）を算出したり、可視化（グラフ）します。<br>\n",
    "※各種グラフは以下を参照<br>\n",
    "http://pythondatascience.plavox.info/matplotlib\n",
    "\n",
    "※他にSeabornという上級者向けのグラフライブラリもあります。\n",
    "http://pythondatascience.plavox.info/seaborn"
   ]
  },
  {
   "cell_type": "code",
   "execution_count": null,
   "metadata": {
    "collapsed": true
   },
   "outputs": [],
   "source": [
    "#ヒストグラム：SalePrice\n",
    "var='SalePrice'\n",
    "plt.figure(figsize=(16,8)) #figsize調整\n",
    "plt.hist( df_train[var],bins=50,rwidth=0.8)"
   ]
  },
  {
   "cell_type": "code",
   "execution_count": null,
   "metadata": {
    "collapsed": true
   },
   "outputs": [],
   "source": [
    "#棒グラフ：YearBuilt\n",
    "var='YearBuilt'\n",
    "plt.figure(figsize=(16,8))\n",
    "plt.hist( df_train[var],bins=100,rwidth=0.8)"
   ]
  },
  {
   "cell_type": "code",
   "execution_count": null,
   "metadata": {
    "collapsed": true
   },
   "outputs": [],
   "source": [
    "#クロス集計：OverallCond × SaleCondition\n",
    "pd.crosstab(df_train.OverallCond, df_train.SaleCondition)"
   ]
  },
  {
   "cell_type": "code",
   "execution_count": null,
   "metadata": {
    "collapsed": true
   },
   "outputs": [],
   "source": [
    "#散布図：GrLivArea×SalePrice\n",
    "data = pd.concat([df_train['SalePrice'], df_train['GrLivArea']], axis=1)\n",
    "data.plot.scatter(x='GrLivArea', y='SalePrice', ylim=(0,800000),figsize=(12,9))"
   ]
  },
  {
   "cell_type": "markdown",
   "metadata": {},
   "source": [
    "# 演習問題"
   ]
  },
  {
   "cell_type": "code",
   "execution_count": null,
   "metadata": {
    "collapsed": true
   },
   "outputs": [],
   "source": [
    "#演習①　基本統計量：GrLivArea\n"
   ]
  },
  {
   "cell_type": "code",
   "execution_count": null,
   "metadata": {
    "collapsed": true
   },
   "outputs": [],
   "source": [
    "#演習②　ヒストグラム：GrLivArea\n"
   ]
  },
  {
   "cell_type": "code",
   "execution_count": null,
   "metadata": {
    "collapsed": true
   },
   "outputs": [],
   "source": [
    "#演習③　棒グラフ：YrSold、MoSold\n"
   ]
  },
  {
   "cell_type": "code",
   "execution_count": null,
   "metadata": {
    "collapsed": true
   },
   "outputs": [],
   "source": [
    "#演習④　クロス集計：OverallCond × YrSold\n"
   ]
  },
  {
   "cell_type": "code",
   "execution_count": null,
   "metadata": {
    "collapsed": true
   },
   "outputs": [],
   "source": [
    "#演習⑤　散布図：GrLivArea×TotalBsmtSF\n"
   ]
  }
 ],
 "metadata": {
  "kernelspec": {
   "display_name": "Python 3",
   "language": "python",
   "name": "python3"
  },
  "language_info": {
   "codemirror_mode": {
    "name": "ipython",
    "version": 3
   },
   "file_extension": ".py",
   "mimetype": "text/x-python",
   "name": "python",
   "nbconvert_exporter": "python",
   "pygments_lexer": "ipython3",
   "version": "3.6.0"
  }
 },
 "nbformat": 4,
 "nbformat_minor": 2
}
