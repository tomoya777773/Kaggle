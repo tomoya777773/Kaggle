{
 "cells": [
  {
   "cell_type": "code",
   "execution_count": 1,
   "metadata": {},
   "outputs": [
    {
     "name": "stderr",
     "output_type": "stream",
     "text": [
      "/Users/mi-tomoya/.pyenv/versions/3.6.5/envs/ur5/lib/python3.6/site-packages/lightgbm/__init__.py:46: UserWarning: Starting from version 2.2.1, the library file in distribution wheels for macOS is built by the Apple Clang (Xcode_8.3.1) compiler.\n",
      "This means that in case of installing LightGBM from PyPI via the ``pip install lightgbm`` command, you don't need to install the gcc compiler anymore.\n",
      "Instead of that, you need to install the OpenMP library, which is required for running LightGBM on the system with the Apple Clang compiler.\n",
      "You can install the OpenMP library by the following command: ``brew install libomp``.\n",
      "  \"You can install the OpenMP library by the following command: ``brew install libomp``.\", UserWarning)\n"
     ]
    }
   ],
   "source": [
    "import seaborn as sns\n",
    "import matplotlib.pyplot as plt\n",
    "import numpy as np\n",
    "import pandas as pd\n",
    "from scipy.stats import skew\n",
    "from sklearn.linear_model import Lasso\n",
    "from sklearn.model_selection import train_test_split\n",
    "from sklearn.metrics import mean_squared_error\n",
    "import lightgbm as lgb"
   ]
  },
  {
   "cell_type": "code",
   "execution_count": 2,
   "metadata": {},
   "outputs": [],
   "source": [
    "#データの読み込み\n",
    "df_train = pd.read_csv('train.csv')\n",
    "df_test = pd.read_csv('test.csv')\n",
    "#外れ値の処理\n",
    "df_train = df_train[~((df_train['GrLivArea'] > 4000) & (df_train['SalePrice'] < 300000))]\n",
    "#Id及びSaleprice以外の全データを結合(左端=Id, 右端はSalePrice)\n",
    "df_all = pd.concat((df_train.loc[:,'MSSubClass':'SaleCondition'], df_test.loc[:,'MSSubClass':'SaleCondition']))\n",
    "#Feature Engineering - 前回の中で断トツでFeature Importanceが高かったTotalHousePorchSFを採用\n",
    "df_all['TotalHousePorchSF'] = df_all['EnclosedPorch']+df_all['OpenPorchSF']+df_all['WoodDeckSF']+df_all['3SsnPorch']+df_all['ScreenPorch']\n",
    "df_train['TotalHousePorchSF'] = df_train['EnclosedPorch']+df_train['OpenPorchSF']+df_train['WoodDeckSF']+df_train['3SsnPorch']+df_train['ScreenPorch']\n",
    "\n",
    "# df_all['TotalFinSF'] = df_all['1stFlrSF']+df_all['2ndFlrSF']\n",
    "# df_train['TotalFinSF'] = df_train['1stFlrSF']+df_train['2ndFlrSF']"
   ]
  },
  {
   "cell_type": "code",
   "execution_count": 3,
   "metadata": {},
   "outputs": [],
   "source": [
    "# d = {}\n",
    "# num = 1\n",
    "# pvt2=pd.crosstab(index=df_train['MSZoning'],columns=df_train['Neighborhood'],values=df_train['SalePrice'],aggfunc='mean')\n",
    "# a = np.mean(pvt2, axis=0).sort_values()\n",
    "# for i in a.keys():\n",
    "#     if(i == \"Blueste\"):\n",
    "#         num+=1\n",
    "#         d[i] = num\n",
    "#     elif(i == \"ClearCr\"):\n",
    "#         num+=1\n",
    "#         d[i] = num\n",
    "#     else:\n",
    "#         d[i] = num\n",
    "\n",
    "\n",
    "# df_train['Neighborhood_val'] = 1\n",
    "# for i,j in zip(df_train['Neighborhood'], range(len(df_train['Neighborhood']))):\n",
    "#     df_train['Neighborhood_val'][j] = d[i]\n"
   ]
  },
  {
   "cell_type": "code",
   "execution_count": 4,
   "metadata": {},
   "outputs": [],
   "source": [
    "# d = {}\n",
    "# num = 1\n",
    "# # df_all['SalePrice'] = df_train['SalePrice']\n",
    "# pvt2=pd.crosstab(index=df_train['MSZoning'],columns=df_train['Neighborhood'],values=df_train['SalePrice'],aggfunc='mean')\n",
    "# a = np.mean(pvt2, axis=0).sort_values()\n",
    "# for i in a.keys():\n",
    "#     if(i == \"Blueste\"):\n",
    "#         num+=1\n",
    "#         d[i] = num\n",
    "#     elif(i == \"ClearCr\"):\n",
    "#         num+=1\n",
    "#         d[i] = num\n",
    "#     else:\n",
    "#         d[i] = num\n",
    "\n",
    "\n",
    "# df_all['Neighborhood_val'] = 1\n",
    "# for i,j in zip(df_all['Neighborhood'], range(len(df_all['Neighborhood']))):\n",
    "#     df_all['Neighborhood_val'][j] = d[i]\n"
   ]
  },
  {
   "cell_type": "code",
   "execution_count": 5,
   "metadata": {},
   "outputs": [],
   "source": [
    "# #相関係数行列の可視化\n",
    "# fig, ax = plt.subplots(1, 1, figsize=(30, 30))\n",
    "# sns.heatmap(df_train.corr(), vmax=1, vmin=-1, center=0, annot=True, ax=ax)"
   ]
  },
  {
   "cell_type": "code",
   "execution_count": 6,
   "metadata": {},
   "outputs": [],
   "source": [
    "df_all.drop(['1stFlrSF','GarageArea','TotRmsAbvGrd', 'GarageYrBlt'], axis=1, inplace=True)"
   ]
  },
  {
   "cell_type": "code",
   "execution_count": 7,
   "metadata": {},
   "outputs": [
    {
     "data": {
      "text/plain": [
       "<matplotlib.axes._subplots.AxesSubplot at 0x10dfe1160>"
      ]
     },
     "execution_count": 7,
     "metadata": {},
     "output_type": "execute_result"
    },
    {
     "data": {
      "image/png": "[encoded data removed]",
      "text/plain": [
       "<Figure size 432x288 with 1 Axes>"
      ]
     },
     "metadata": {
      "needs_background": "light"
     },
     "output_type": "display_data"
    }
   ],
   "source": [
    "df_train[\"SalePrice\"].hist(bins=30)"
   ]
  },
  {
   "cell_type": "code",
   "execution_count": 8,
   "metadata": {},
   "outputs": [
    {
     "data": {
      "text/plain": [
       "<matplotlib.axes._subplots.AxesSubplot at 0x11eeeab70>"
      ]
     },
     "execution_count": 8,
     "metadata": {},
     "output_type": "execute_result"
    },
    {
     "data": {
      "image/png": "[encoded data removed]",
      "text/plain": [
       "<Figure size 432x288 with 1 Axes>"
      ]
     },
     "metadata": {
      "needs_background": "light"
     },
     "output_type": "display_data"
    }
   ],
   "source": [
    "df_train[\"SalePrice\"] = np.log1p(df_train[\"SalePrice\"])\n",
    "#対数変換後の分布を確認\n",
    "df_train[\"SalePrice\"].hist(bins=30)"
   ]
  },
  {
   "cell_type": "code",
   "execution_count": 9,
   "metadata": {},
   "outputs": [],
   "source": [
    "#カテゴリカルでない特徴量\n",
    "non_categoricals = df_all.dtypes[df_all.dtypes != \"object\"].index\n",
    "skewed_feats = df_train[non_categoricals].apply(lambda x: skew(x.dropna()))\n",
    "skewed_feats = skewed_feats[skewed_feats > 0.6].index\n",
    "#歪度0.7より大きい特徴量を対数変換\n",
    "df_all[skewed_feats] = np.log1p(df_all[skewed_feats])"
   ]
  },
  {
   "cell_type": "code",
   "execution_count": 10,
   "metadata": {},
   "outputs": [],
   "source": [
    "#One Hot Encoding\n",
    "df_all = pd.get_dummies(df_all)\n",
    "#欠損値を平均値で補完\n",
    "df_all = df_all.fillna(df_all.mean())"
   ]
  },
  {
   "cell_type": "code",
   "execution_count": 11,
   "metadata": {},
   "outputs": [],
   "source": [
    "#学習データ、テストデータに分割\n",
    "X = df_all[:df_train.shape[0]]\n",
    "X_for_test = df_all[df_train.shape[0]:]\n",
    "y = df_train.SalePrice\n",
    "X_train, X_test, y_train, y_test = train_test_split(X, y, test_size=0.3, random_state=1111)"
   ]
  },
  {
   "cell_type": "code",
   "execution_count": 12,
   "metadata": {},
   "outputs": [
    {
     "data": {
      "text/plain": [
       "Lasso(alpha=0.000549, copy_X=True, fit_intercept=True, max_iter=1000,\n",
       "   normalize=False, positive=False, precompute=False, random_state=None,\n",
       "   selection='cyclic', tol=0.0001, warm_start=False)"
      ]
     },
     "execution_count": 12,
     "metadata": {},
     "output_type": "execute_result"
    }
   ],
   "source": [
    "reg = Lasso(alpha=0.000549)\n",
    "reg.fit(X_train, y_train)"
   ]
  },
  {
   "cell_type": "code",
   "execution_count": 13,
   "metadata": {},
   "outputs": [
    {
     "name": "stdout",
     "output_type": "stream",
     "text": [
      "ラッソ回帰でのRMSE: 0.11431077123835078\n"
     ]
    }
   ],
   "source": [
    "y_pred = reg.predict(X_test)\n",
    "print(\"ラッソ回帰でのRMSE:\",np.sqrt(mean_squared_error(y_pred, y_test)))"
   ]
  },
  {
   "cell_type": "code",
   "execution_count": 14,
   "metadata": {},
   "outputs": [
    {
     "name": "stderr",
     "output_type": "stream",
     "text": [
      "/Users/mi-tomoya/.pyenv/versions/3.6.5/envs/ur5/lib/python3.6/site-packages/sklearn/preprocessing/data.py:625: DataConversionWarning: Data with input dtype uint8, int64, float64 were all converted to float64 by StandardScaler.\n",
      "  return self.partial_fit(X, y)\n",
      "/Users/mi-tomoya/.pyenv/versions/3.6.5/envs/ur5/lib/python3.6/site-packages/sklearn/base.py:465: DataConversionWarning: Data with input dtype uint8, int64, float64 were all converted to float64 by StandardScaler.\n",
      "  return self.fit(X, y, **fit_params).transform(X)\n"
     ]
    },
    {
     "name": "stdout",
     "output_type": "stream",
     "text": [
      "elastic回帰でのRMSE: 0.12293114811498987\n"
     ]
    },
    {
     "name": "stderr",
     "output_type": "stream",
     "text": [
      "/Users/mi-tomoya/.pyenv/versions/3.6.5/envs/ur5/lib/python3.6/site-packages/sklearn/pipeline.py:331: DataConversionWarning: Data with input dtype uint8, int64, float64 were all converted to float64 by StandardScaler.\n",
      "  Xt = transform.transform(Xt)\n"
     ]
    }
   ],
   "source": [
    "from sklearn.preprocessing import StandardScaler\n",
    "from sklearn.linear_model import ElasticNet\n",
    "from sklearn.model_selection import GridSearchCV\n",
    "from sklearn.metrics import mean_squared_error\n",
    "from sklearn.decomposition import PCA\n",
    "from sklearn.pipeline import Pipeline\n",
    "\n",
    "# 変換器・推定器オブジェクト作成\n",
    "standardizer = StandardScaler()\n",
    "pca = PCA()\n",
    "reg = ElasticNet(random_state=42)\n",
    "a = np.arange(0.003,0.004,100)\n",
    "gscv = GridSearchCV(reg, param_grid={'alpha': a}, cv=2)\n",
    "\n",
    "pl = Pipeline([\n",
    "        ('standardize', standardizer),\n",
    "        ('pca', pca),\n",
    "        ('gs_elastic_net', gscv)\n",
    "        ])\n",
    "\n",
    "pl.fit(X_train, y_train)\n",
    "\n",
    "# テストデータに対して予測\n",
    "y_pred_ela = pl.predict(X_test)\n",
    "\n",
    "# 評価\n",
    "print(\"elastic回帰でのRMSE:\",np.sqrt(mean_squared_error(y_pred_ela, y_test)))"
   ]
  },
  {
   "cell_type": "code",
   "execution_count": 15,
   "metadata": {},
   "outputs": [],
   "source": [
    "lgb_train = lgb.Dataset(X_train,y_train)"
   ]
  },
  {
   "cell_type": "code",
   "execution_count": 16,
   "metadata": {},
   "outputs": [
    {
     "name": "stderr",
     "output_type": "stream",
     "text": [
      "/Users/mi-tomoya/.pyenv/versions/3.6.5/envs/ur5/lib/python3.6/site-packages/lightgbm/engine.py:116: UserWarning: Found `num_iterations` in params. Will use it instead of argument\n",
      "  warnings.warn(\"Found `{}` in params. Will use it instead of argument\".format(alias))\n"
     ]
    },
    {
     "name": "stdout",
     "output_type": "stream",
     "text": [
      "LightGBMでのRMSE: 0.11716578498521343\n"
     ]
    }
   ],
   "source": [
    "params = {'task': 'train','boosting_type': 'gbdt','objective': 'regression','metric': {'l2'},'num_leaves': 256,\n",
    "'learning_rate': 0.01,'num_iterations':2000,'feature_fraction': 0.4,'bagging_fraction': 0.7,'bagging_freq': 5}\n",
    "gbm = lgb.train(params, lgb_train, num_boost_round=1500)\n",
    "y_test_pred_lgb = gbm.predict(np.array(X_test), num_iteration=gbm.best_iteration)\n",
    "#RMSE\n",
    "print(\"LightGBMでのRMSE:\",np.sqrt(mean_squared_error(y_test, y_test_pred_lgb)))"
   ]
  },
  {
   "cell_type": "code",
   "execution_count": null,
   "metadata": {},
   "outputs": [],
   "source": []
  },
  {
   "cell_type": "code",
   "execution_count": 17,
   "metadata": {},
   "outputs": [
    {
     "name": "stdout",
     "output_type": "stream",
     "text": [
      "xgboostでのRMSE: 0.12106263301859242\n"
     ]
    }
   ],
   "source": [
    "import xgboost as xgb\n",
    "xgb_reg = xgb.XGBRegressor(max_depth=5, n_estimators=500, subsample=0.8)\n",
    "xgb_reg.fit(X_train,y_train)\n",
    "#RMSE\n",
    "y_pred3 = xgb_reg.predict(X_test)\n",
    "print(\"xgboostでのRMSE:\",np.sqrt(mean_squared_error(y_test, y_pred3)))"
   ]
  },
  {
   "cell_type": "code",
   "execution_count": 18,
   "metadata": {},
   "outputs": [
    {
     "data": {
      "image/png": "[encoded data removed]",
      "text/plain": [
       "<Figure size 576x504 with 1 Axes>"
      ]
     },
     "metadata": {
      "needs_background": "light"
     },
     "output_type": "display_data"
    }
   ],
   "source": [
    "from xgboost import plot_importance\n",
    "fig, ax = plt.subplots(1,1,figsize=(8,7))\n",
    "plot_importance(xgb_reg, ax=ax, max_num_features=20)\n",
    "plt.show()"
   ]
  },
  {
   "cell_type": "code",
   "execution_count": 19,
   "metadata": {},
   "outputs": [
    {
     "name": "stdout",
     "output_type": "stream",
     "text": [
      "LightGBM+Lassoのスタッキング時のRMSE: 0.11061062565043893\n"
     ]
    }
   ],
   "source": [
    "print(\"LightGBM+Lassoのスタッキング時のRMSE:\",np.sqrt(mean_squared_error(y_test, (y_pred*0.7+y_test_pred_lgb*0.3))))"
   ]
  },
  {
   "cell_type": "code",
   "execution_count": 20,
   "metadata": {},
   "outputs": [
    {
     "name": "stderr",
     "output_type": "stream",
     "text": [
      "/Users/mi-tomoya/.pyenv/versions/3.6.5/envs/ur5/lib/python3.6/site-packages/lightgbm/engine.py:116: UserWarning: Found `num_iterations` in params. Will use it instead of argument\n",
      "  warnings.warn(\"Found `{}` in params. Will use it instead of argument\".format(alias))\n"
     ]
    }
   ],
   "source": [
    "#全データで学習\n",
    "reg.fit(X, y)\n",
    "lgb_train_full = lgb.Dataset(X,y)\n",
    "gbm = lgb.train(params, lgb_train_full, num_boost_round=1500)"
   ]
  },
  {
   "cell_type": "code",
   "execution_count": 21,
   "metadata": {},
   "outputs": [],
   "source": [
    "#ラッソ・LightGBMの予測及びスタッキング\n",
    "pred = np.expm1(reg.predict(X_for_test))\n",
    "pred2 = np.expm1(gbm.predict(X_for_test))\n",
    "pred3 = (pred*0.7+pred2*0.3)"
   ]
  },
  {
   "cell_type": "code",
   "execution_count": 22,
   "metadata": {},
   "outputs": [],
   "source": [
    "solution = pd.DataFrame({\"id\":df_test.Id, \"SalePrice\":pred3})\n",
    "solution.to_csv(\"sample3.csv\", index = False)"
   ]
  },
  {
   "cell_type": "code",
   "execution_count": null,
   "metadata": {},
   "outputs": [],
   "source": []
  },
  {
   "cell_type": "code",
   "execution_count": null,
   "metadata": {},
   "outputs": [],
   "source": []
  }
 ],
 "metadata": {
  "kernelspec": {
   "display_name": "Python 3",
   "language": "python",
   "name": "python3"
  },
  "language_info": {
   "codemirror_mode": {
    "name": "ipython",
    "version": 3
   },
   "file_extension": ".py",
   "mimetype": "text/x-python",
   "name": "python",
   "nbconvert_exporter": "python",
   "pygments_lexer": "ipython3",
   "version": "3.6.5"
  }
 },
 "nbformat": 4,
 "nbformat_minor": 2
}
