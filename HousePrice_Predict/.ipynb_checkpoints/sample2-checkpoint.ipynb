{
 "cells": [
  {
   "cell_type": "code",
   "execution_count": 1,
   "metadata": {},
   "outputs": [],
   "source": [
    "import numpy as np\n",
    "import pandas as pd\n",
    "import matplotlib.pyplot as plt\n",
    "import seaborn as sns\n",
    "%matplotlib inline\n",
    "from sklearn.ensemble import RandomForestRegressor\n",
    "from sklearn.metrics import mean_squared_error\n",
    "from sklearn.linear_model import Lasso\n",
    "from sklearn import svm\n",
    "from sklearn.model_selection import GridSearchCV, train_test_split"
   ]
  },
  {
   "cell_type": "markdown",
   "metadata": {},
   "source": [
    "– Feature Engineeringをせず与えられた特徴量のみ使用した<br>\n",
    "– 外れ値の確認を行っていない<br>\n",
    "– 機械学習アルゴリズム。線形と木とSVRでGrid Searchにホイッという手抜きぶり"
   ]
  },
  {
   "cell_type": "code",
   "execution_count": 2,
   "metadata": {},
   "outputs": [],
   "source": [
    "#学習データとテストデータの読み込み\n",
    "df_train = pd.read_csv(\"train.csv\")\n",
    "df_test = pd.read_csv(\"test.csv\")"
   ]
  },
  {
   "cell_type": "code",
   "execution_count": 3,
   "metadata": {},
   "outputs": [],
   "source": [
    "#予測に使わないIdを保持・データフレームから削除\n",
    "df_train_index = df_train[\"Id\"]\n",
    "df_test_index = df_test[\"Id\"]\n",
    "df_train.drop([\"Id\"], axis=1, inplace=True)\n",
    "df_test.drop([\"Id\"], axis=1, inplace=True)"
   ]
  },
  {
   "cell_type": "code",
   "execution_count": 4,
   "metadata": {},
   "outputs": [],
   "source": [
    "#目的変数であるSalePriceを別に取っておく\n",
    "y_train = df_train[\"SalePrice\"].values\n",
    "df_train.drop([\"SalePrice\"], axis=1, inplace=True)"
   ]
  },
  {
   "cell_type": "code",
   "execution_count": 5,
   "metadata": {},
   "outputs": [],
   "source": [
    "#学習用データとテストデータを一度統合する\n",
    "df_all = pd.concat((df_train,df_test)).reset_index(drop=True)"
   ]
  },
  {
   "cell_type": "code",
   "execution_count": 6,
   "metadata": {},
   "outputs": [
    {
     "data": {
      "text/plain": [
       "PoolQC          2909\n",
       "MiscFeature     2814\n",
       "Alley           2721\n",
       "Fence           2348\n",
       "FireplaceQu     1420\n",
       "LotFrontage      486\n",
       "GarageFinish     159\n",
       "GarageYrBlt      159\n",
       "GarageQual       159\n",
       "GarageCond       159\n",
       "GarageType       157\n",
       "BsmtExposure      82\n",
       "BsmtCond          82\n",
       "BsmtQual          81\n",
       "BsmtFinType2      80\n",
       "BsmtFinType1      79\n",
       "MasVnrType        24\n",
       "MasVnrArea        23\n",
       "MSZoning           4\n",
       "BsmtFullBath       2\n",
       "BsmtHalfBath       2\n",
       "Utilities          2\n",
       "Functional         2\n",
       "Exterior2nd        1\n",
       "Exterior1st        1\n",
       "SaleType           1\n",
       "BsmtFinSF1         1\n",
       "BsmtFinSF2         1\n",
       "BsmtUnfSF          1\n",
       "Electrical         1\n",
       "KitchenQual        1\n",
       "GarageCars         1\n",
       "GarageArea         1\n",
       "TotalBsmtSF        1\n",
       "dtype: int64"
      ]
     },
     "execution_count": 6,
     "metadata": {},
     "output_type": "execute_result"
    }
   ],
   "source": [
    "#欠損値の個数確認 / 2919データ\n",
    "df_all.isnull().sum()[df_all.isnull().sum() != 0].sort_values(ascending=False)"
   ]
  },
  {
   "cell_type": "code",
   "execution_count": 7,
   "metadata": {},
   "outputs": [],
   "source": [
    "#欠損値の補完\n",
    "#以下はNaN = NAかNoneの特徴量リスト。よって欠損値をそれぞれNAとNoneで補完する。\n",
    "df_all[\"PoolQC\"].fillna('NA', inplace=True)\n",
    "df_all[\"MiscFeature\"].fillna('None', inplace=True)\n",
    "df_all[\"Alley\"].fillna('NA', inplace=True)\n",
    "df_all[\"Fence\"].fillna('NA', inplace=True)\n",
    "df_all[\"FireplaceQu\"].fillna('NA', inplace=True)\n",
    "df_all[\"GarageQual\"].fillna('NA', inplace=True)\n",
    "df_all[\"GarageFinish\"].fillna('NA', inplace=True)\n",
    "df_all[\"GarageCond\"].fillna('NA', inplace=True)\n",
    "df_all[\"GarageType\"].fillna('NA', inplace=True)\n",
    "df_all[\"BsmtCond\"].fillna('NA', inplace=True)\n",
    "df_all[\"BsmtExposure\"].fillna('NA', inplace=True)\n",
    "df_all[\"BsmtQual\"].fillna('NA', inplace=True)\n",
    "df_all[\"BsmtFinType2\"].fillna('NA', inplace=True)\n",
    "df_all[\"BsmtFinType1\"].fillna('NA', inplace=True)\n",
    "df_all[\"MasVnrType\"].fillna('None', inplace=True)\n",
    "\n",
    "#以下はNaN = 0の特徴量リスト。例えば地下なら、地下がないんだから0。みたいな。\n",
    "df_all[\"GarageYrBlt\"].fillna(0, inplace=True) # ガレージ築年数を0にするのも不思議な気はしますが、そもそもガレージがないので他に妥当な数字が思いつかず。\n",
    "df_all[\"MasVnrArea\"].fillna(0, inplace=True)\n",
    "df_all[\"BsmtHalfBath\"].fillna(0, inplace=True)\n",
    "df_all[\"BsmtFullBath\"].fillna(0, inplace=True)\n",
    "df_all[\"TotalBsmtSF\"].fillna(0, inplace=True)\n",
    "df_all[\"BsmtUnfSF\"].fillna(0, inplace=True)\n",
    "df_all[\"BsmtFinSF2\"].fillna(0, inplace=True)\n",
    "df_all[\"BsmtFinSF1\"].fillna(0, inplace=True)\n",
    "df_all[\"GarageArea\"].fillna(0, inplace=True)\n",
    "df_all[\"GarageCars\"].fillna(0, inplace=True)\n",
    "\n",
    "#欠損レコード数が少なく、大半が一つの値をとっているためあまりに予測の役に立たなさそうな特徴量は単純に最頻値を代入\n",
    "df_all[\"MSZoning\"].fillna('RL', inplace=True)\n",
    "df_all[\"Functional\"].fillna('Typ', inplace=True)\n",
    "df_all[\"Utilities\"].fillna(\"AllPub\", inplace=True)\n",
    "df_all['SaleType'] = df_all['SaleType'].fillna(df_all['SaleType'].mode()[0])\n",
    "df_all['Exterior2nd'] = df_all['Exterior2nd'].fillna(df_all['Exterior2nd'].mode()[0])\n",
    "df_all['Exterior1st'] = df_all['Exterior1st'].fillna(df_all['Exterior1st'].mode()[0])\n",
    "df_all['KitchenQual'] = df_all['KitchenQual'].fillna(df_all['KitchenQual'].mode()[0])\n",
    "df_all['Electrical'] = df_all['Electrical'].fillna(df_all['Electrical'].mode()[0])\n",
    "\n",
    "#LotFrontage - Linear feet of street connected to property\n",
    "#これは補完方法が明らかかつ簡単で、近くのStreet名=Neighborhoodでグループし平均を取れば良い精度で補完できそう。\n",
    "f = lambda x: x.fillna(x.mean())\n",
    "df_all[\"LotFrontage\"] = df_all.groupby(\"Neighborhood\")[\"LotFrontage\"].transform(f)"
   ]
  },
  {
   "cell_type": "code",
   "execution_count": 8,
   "metadata": {},
   "outputs": [
    {
     "data": {
      "text/plain": [
       "Series([], dtype: int64)"
      ]
     },
     "execution_count": 8,
     "metadata": {},
     "output_type": "execute_result"
    }
   ],
   "source": [
    "#欠損値がすべて補完されているか確認\n",
    "df_all.isnull().sum()[df_all.isnull().sum() != 0].sort_values(ascending=False)"
   ]
  },
  {
   "cell_type": "code",
   "execution_count": 9,
   "metadata": {},
   "outputs": [],
   "source": [
    "#One Hot Encoding\n",
    "df_all = pd.get_dummies(df_all)"
   ]
  },
  {
   "cell_type": "code",
   "execution_count": 10,
   "metadata": {},
   "outputs": [],
   "source": [
    "#日本人なら気になる、「で、何LDKなの？」\n",
    "df_all['xLDK'] = df_all['BedroomAbvGr'] + df_all['KitchenAbvGr']\n",
    "#何年に建ったかより、築年数の方が重要のはず\n",
    "df_all['YearSinceBuilt'] = 2018 - df_all['YearBuilt']\n",
    "#何年に売れたかより、売れてから経過している年数の方が重要のはず\n",
    "df_all['YrSinceSold'] = 2018 - df_all['YrSold']\n",
    "#ガレージの築年数\n",
    "df_all['GarageSinceYrBlt'] = 2018 - df_all['GarageYrBlt']\n",
    "#大きなくくりで集計してみる\n",
    "df_all['TotalHousePorchSF'] = df_all['EnclosedPorch'] + df_all['OpenPorchSF'] + df_all['WoodDeckSF']+df_all['3SsnPorch']+df_all['ScreenPorch']\n",
    "df_all['TotalHouseSF'] = df_all['1stFlrSF'] + df_all['2ndFlrSF'] + df_all['TotalBsmtSF']\n",
    "#なんかLow Qualityな面積があるらしいので全体の面積から引く\n",
    "df_all['TotalHouseSFHighQuality'] = df_all['TotalHouseSF'] - df_all['LowQualFinSF']\n",
    "#割るぞ～\n",
    "df_all['1stFlr_vs_2ndFlr'] = df_all['1stFlrSF'] / (df_all['2ndFlrSF'] + 0.001)\n",
    "df_all['Bsmt_vs_1stAnd2ndFlr'] = df_all['TotalBsmtSF'] / (df_all['1stFlrSF'] + df_all['2ndFlrSF'] + 0.001)\n",
    "#Overall Qualityが結構重要そうなので2乗と3乗してみる\n",
    "df_all['OverallQual_2'] = df_all['OverallQual']**2\n",
    "df_all['OverallQual_3'] = df_all['OverallQual']**3"
   ]
  },
  {
   "cell_type": "code",
   "execution_count": 11,
   "metadata": {},
   "outputs": [],
   "source": [
    "#学習用データとテストデータを切り分ける\n",
    "ntrain = df_train.shape[0]\n",
    "train = df_all[:ntrain]\n",
    "test = df_all[ntrain:]\n",
    "y = y_train\n",
    "#X = train.loc[:, train.columns != 'SalePrice']"
   ]
  },
  {
   "cell_type": "code",
   "execution_count": 12,
   "metadata": {},
   "outputs": [
    {
     "name": "stderr",
     "output_type": "stream",
     "text": [
      "/Users/mi-tomoya/.pyenv/versions/3.6.5/envs/ur5/lib/python3.6/site-packages/sklearn/ensemble/iforest.py:223: FutureWarning: behaviour=\"old\" is deprecated and will be removed in version 0.22. Please use behaviour=\"new\", which makes the decision_function change to match other anomaly detection algorithm API.\n",
      "  FutureWarning)\n"
     ]
    },
    {
     "data": {
      "text/plain": [
       "IsolationForest(behaviour='old', bootstrap=False, contamination=0.01,\n",
       "        max_features=1.0, max_samples='auto', n_estimators=500,\n",
       "        n_jobs=None, random_state=1234, verbose=0)"
      ]
     },
     "execution_count": 12,
     "metadata": {},
     "output_type": "execute_result"
    }
   ],
   "source": [
    "#Isolation Forest\n",
    "from sklearn.ensemble import IsolationForest\n",
    "clf = IsolationForest(random_state=1234,n_estimators=500, contamination=0.01)\n",
    "clf.fit(train)"
   ]
  },
  {
   "cell_type": "code",
   "execution_count": 13,
   "metadata": {},
   "outputs": [
    {
     "name": "stderr",
     "output_type": "stream",
     "text": [
      "/Users/mi-tomoya/.pyenv/versions/3.6.5/envs/ur5/lib/python3.6/site-packages/sklearn/ensemble/iforest.py:417: DeprecationWarning: threshold_ attribute is deprecated in 0.20 and will be removed in 0.22.\n",
      "  \" be removed in 0.22.\", DeprecationWarning)\n"
     ]
    }
   ],
   "source": [
    "mv_outliers = pd.DataFrame(clf.predict(train))\n",
    "mv_outliers.columns = ['OutlierFlag']"
   ]
  },
  {
   "cell_type": "code",
   "execution_count": 14,
   "metadata": {},
   "outputs": [
    {
     "data": {
      "text/plain": [
       "OutlierFlag    15\n",
       "dtype: int64"
      ]
     },
     "execution_count": 14,
     "metadata": {},
     "output_type": "execute_result"
    }
   ],
   "source": [
    "mv_outliers[mv_outliers == -1].count()"
   ]
  },
  {
   "cell_type": "code",
   "execution_count": 15,
   "metadata": {},
   "outputs": [
    {
     "name": "stderr",
     "output_type": "stream",
     "text": [
      "/Users/mi-tomoya/.pyenv/versions/3.6.5/envs/ur5/lib/python3.6/site-packages/seaborn/regression.py:546: UserWarning: The `size` paramter has been renamed to `height`; please update your code.\n",
      "  warnings.warn(msg, UserWarning)\n"
     ]
    },
    {
     "data": {
      "image/png": "[encoded data removed]",
      "text/plain": [
       "<Figure size 819.125x504 with 1 Axes>"
      ]
     },
     "metadata": {
      "needs_background": "light"
     },
     "output_type": "display_data"
    }
   ],
   "source": [
    "y_train = pd.DataFrame(y_train)\n",
    "y_train.columns = ['SalePrice']\n",
    "df_all_olcheck = pd.concat([mv_outliers,train, y_train], axis=1)\n",
    "ax = sns.lmplot(x='1stFlrSF', y='SalePrice',fit_reg=False,\n",
    "data=df_all_olcheck, hue='OutlierFlag', size=7, aspect=1.5)"
   ]
  },
  {
   "cell_type": "code",
   "execution_count": 16,
   "metadata": {},
   "outputs": [
    {
     "name": "stderr",
     "output_type": "stream",
     "text": [
      "/Users/mi-tomoya/.pyenv/versions/3.6.5/envs/ur5/lib/python3.6/site-packages/pandas/core/frame.py:3697: SettingWithCopyWarning: \n",
      "A value is trying to be set on a copy of a slice from a DataFrame\n",
      "\n",
      "See the caveats in the documentation: http://pandas.pydata.org/pandas-docs/stable/indexing.html#indexing-view-versus-copy\n",
      "  errors=errors)\n"
     ]
    },
    {
     "data": {
      "text/plain": [
       "RandomForestRegressor(bootstrap=True, criterion='mse', max_depth=10,\n",
       "           max_features='auto', max_leaf_nodes=None,\n",
       "           min_impurity_decrease=0.0, min_impurity_split=None,\n",
       "           min_samples_leaf=1, min_samples_split=2,\n",
       "           min_weight_fraction_leaf=0.0, n_estimators=500, n_jobs=None,\n",
       "           oob_score=False, random_state=1234, verbose=0, warm_start=False)"
      ]
     },
     "execution_count": 16,
     "metadata": {},
     "output_type": "execute_result"
    }
   ],
   "source": [
    "df_all_r1 = df_all_olcheck[df_all_olcheck['OutlierFlag'] == 1]\n",
    "df_all_r1.drop(\"OutlierFlag\", axis=1, inplace=True)\n",
    "y_train_r1 = df_all_r1[\"SalePrice\"].values\n",
    "df_all_r1.drop([\"SalePrice\"], axis=1, inplace=True)\n",
    "#30%でチューニングを行う\n",
    "X_train, X_test, y_train, y_test = train_test_split(df_all_r1, y_train_r1, test_size=0.3, random_state=1234)\n",
    "#とりあえずランダムフォレスト、パラメーターは前回のグリッドサーチ結果と同様\n",
    "rf = RandomForestRegressor(n_estimators = 500, max_depth=10, random_state=1234)\n",
    "rf.fit(X_train,y_train)"
   ]
  },
  {
   "cell_type": "code",
   "execution_count": 17,
   "metadata": {},
   "outputs": [
    {
     "name": "stdout",
     "output_type": "stream",
     "text": [
      "ランダムフォレストでのRMSE: 24143.17672357615\n"
     ]
    }
   ],
   "source": [
    "y_pred2 = rf.predict(X_test)\n",
    "print(\"ランダムフォレストでのRMSE:\",np.sqrt(mean_squared_error(y_test, y_pred2)))"
   ]
  },
  {
   "cell_type": "code",
   "execution_count": 19,
   "metadata": {},
   "outputs": [
    {
     "data": {
      "text/plain": [
       "XGBRegressor(base_score=0.5, booster='gbtree', colsample_bylevel=1,\n",
       "       colsample_bytree=1, gamma=0, learning_rate=0.1, max_delta_step=0,\n",
       "       max_depth=5, min_child_weight=1, missing=None, n_estimators=500,\n",
       "       n_jobs=1, nthread=None, objective='reg:linear', random_state=0,\n",
       "       reg_alpha=0, reg_lambda=1, scale_pos_weight=1, seed=None,\n",
       "       silent=True, subsample=0.8)"
      ]
     },
     "execution_count": 19,
     "metadata": {},
     "output_type": "execute_result"
    }
   ],
   "source": [
    "import xgboost as xgb\n",
    "xgb_reg = xgb.XGBRegressor(max_depth=5, n_estimators=500, subsample=0.8)\n",
    "xgb_reg.fit(X_train,y_train)"
   ]
  },
  {
   "cell_type": "code",
   "execution_count": 20,
   "metadata": {},
   "outputs": [
    {
     "name": "stdout",
     "output_type": "stream",
     "text": [
      "xgboostでのRMSE: 22094.85064260456\n"
     ]
    }
   ],
   "source": [
    "#RMSE\n",
    "y_pred3 = xgb_reg.predict(X_test)\n",
    "print(\"xgboostでのRMSE:\",np.sqrt(mean_squared_error(y_test, y_pred3)))"
   ]
  },
  {
   "cell_type": "code",
   "execution_count": 21,
   "metadata": {},
   "outputs": [],
   "source": [
    "from xgboost import plot_importance"
   ]
  },
  {
   "cell_type": "code",
   "execution_count": 22,
   "metadata": {},
   "outputs": [
    {
     "data": {
      "image/png": "[encoded data removed]",
      "text/plain": [
       "<Figure size 576x504 with 1 Axes>"
      ]
     },
     "metadata": {
      "needs_background": "light"
     },
     "output_type": "display_data"
    }
   ],
   "source": [
    "fig, ax = plt.subplots(1,1,figsize=(8,7))\n",
    "plot_importance(xgb_reg, ax=ax, max_num_features=20)\n",
    "plt.show()"
   ]
  },
  {
   "cell_type": "code",
   "execution_count": 29,
   "metadata": {},
   "outputs": [
    {
     "name": "stderr",
     "output_type": "stream",
     "text": [
      "/Users/mi-tomoya/.pyenv/versions/3.6.5/envs/ur5/lib/python3.6/site-packages/sklearn/preprocessing/data.py:323: DataConversionWarning: Data with input dtype uint8, int64, float64 were all converted to float64 by MinMaxScaler.\n",
      "  return self.partial_fit(X, y)\n",
      "/Users/mi-tomoya/.pyenv/versions/3.6.5/envs/ur5/lib/python3.6/site-packages/sklearn/svm/base.py:196: FutureWarning: The default value of gamma will change from 'auto' to 'scale' in version 0.22 to account better for unscaled features. Set gamma explicitly to 'auto' or 'scale' to avoid this warning.\n",
      "  \"avoid this warning.\", FutureWarning)\n"
     ]
    },
    {
     "name": "stdout",
     "output_type": "stream",
     "text": [
      "SVRでのRMSE: 19752.221248069327\n"
     ]
    }
   ],
   "source": [
    "from sklearn.preprocessing import StandardScaler, RobustScaler, MinMaxScaler\n",
    "scaler = MinMaxScaler()\n",
    "X_train_svr = scaler.fit_transform(X_train)\n",
    "X_test_svr = scaler.transform(X_test)\n",
    "#SVR\n",
    "svr = svm.SVR(C=1e6,epsilon=0.2,kernel='rbf')\n",
    "svr.fit(X_train_svr, y_train)\n",
    "#RMSE\n",
    "y_pred = svr.predict(X_test_svr)\n",
    "print(\"SVRでのRMSE:\",np.sqrt(mean_squared_error(y_test, y_pred)))"
   ]
  },
  {
   "cell_type": "code",
   "execution_count": 33,
   "metadata": {},
   "outputs": [
    {
     "data": {
      "text/plain": [
       "Lasso(alpha=1.0, copy_X=True, fit_intercept=True, max_iter=10000,\n",
       "   normalize=True, positive=False, precompute=False, random_state=123,\n",
       "   selection='cyclic', tol=0.0001, warm_start=False)"
      ]
     },
     "execution_count": 33,
     "metadata": {},
     "output_type": "execute_result"
    }
   ],
   "source": [
    "#まだ予測値を取得していないラッソ回帰\n",
    "lasso = Lasso(normalize=True, random_state=123, max_iter=10000)\n",
    "lasso.fit(X_train,y_train)"
   ]
  },
  {
   "cell_type": "code",
   "execution_count": 34,
   "metadata": {},
   "outputs": [
    {
     "name": "stdout",
     "output_type": "stream",
     "text": [
      "LassoでのRMSE: 21573.461174673776\n"
     ]
    }
   ],
   "source": [
    "y_pred4 = lasso.predict(X_test)\n",
    "print(\"LassoでのRMSE:\",np.sqrt(mean_squared_error(y_test, y_pred4)))"
   ]
  },
  {
   "cell_type": "code",
   "execution_count": 35,
   "metadata": {},
   "outputs": [
    {
     "name": "stdout",
     "output_type": "stream",
     "text": [
      "StackingでのRMSE: 18319.1889583718\n"
     ]
    }
   ],
   "source": [
    "#SVRはy_pred, xgboostはy_pred3, Lassoはy_pred4\n",
    "y_stack = y_pred*(1/3) + y_pred3*(1/3) + y_pred4*(1/3)\n",
    "print(\"StackingでのRMSE:\",np.sqrt(mean_squared_error(y_test, y_stack)))"
   ]
  },
  {
   "cell_type": "code",
   "execution_count": 36,
   "metadata": {},
   "outputs": [],
   "source": [
    "y_pred_lasso = lasso.predict(test)\n",
    "y_pred_xgb = xgb_reg.predict(test)\n",
    "test_svr = scaler.transform(test)\n",
    "y_pred_svr = svr.predict(test_svr)\n",
    "y_stack = y_pred_svr*(1/3) + y_pred_xgb*(1/3) + y_pred_lasso*(1/3)"
   ]
  },
  {
   "cell_type": "code",
   "execution_count": 37,
   "metadata": {},
   "outputs": [],
   "source": [
    "submission = pd.concat((df_test_index, pd.DataFrame(y_stack)), axis=1)\n",
    "submission.columns = ['Id', 'SalePrice']\n",
    "submission.to_csv(\"sample2.csv\",sep=',',index=False)"
   ]
  },
  {
   "cell_type": "code",
   "execution_count": null,
   "metadata": {},
   "outputs": [],
   "source": []
  }
 ],
 "metadata": {
  "kernelspec": {
   "display_name": "Python 3",
   "language": "python",
   "name": "python3"
  },
  "language_info": {
   "codemirror_mode": {
    "name": "ipython",
    "version": 3
   },
   "file_extension": ".py",
   "mimetype": "text/x-python",
   "name": "python",
   "nbconvert_exporter": "python",
   "pygments_lexer": "ipython3",
   "version": "3.6.5"
  }
 },
 "nbformat": 4,
 "nbformat_minor": 2
}
