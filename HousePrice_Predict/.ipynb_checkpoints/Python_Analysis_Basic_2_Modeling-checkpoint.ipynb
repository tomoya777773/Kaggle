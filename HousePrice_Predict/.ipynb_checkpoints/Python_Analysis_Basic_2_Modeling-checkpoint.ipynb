{
 "cells": [
  {
   "cell_type": "markdown",
   "metadata": {
    "colab_type": "text",
    "id": "fjh5AvC4Glw0"
   },
   "source": [
    "# 事前環境設定"
   ]
  },
  {
   "cell_type": "markdown",
   "metadata": {
    "colab_type": "text",
    "id": "zFucQoTgGlw1"
   },
   "source": [
    "・分析に利用するライブラリをインストールする"
   ]
  },
  {
   "cell_type": "code",
   "execution_count": null,
   "metadata": {
    "colab": {
     "autoexec": {
      "startup": false,
      "wait_interval": 0
     }
    },
    "colab_type": "code",
    "collapsed": true,
    "id": "4bAq2NYVGlw2"
   },
   "outputs": [],
   "source": [
    "import pandas as pd\n",
    "import numpy as np\n",
    "import seaborn as sns\n",
    "import matplotlib.pyplot as plt\n",
    "from sklearn.linear_model import LinearRegression\n",
    "%matplotlib inline"
   ]
  },
  {
   "cell_type": "markdown",
   "metadata": {
    "colab_type": "text",
    "id": "Tkab9hrRGlw4"
   },
   "source": [
    "・分析利用データを読込"
   ]
  },
  {
   "cell_type": "code",
   "execution_count": null,
   "metadata": {
    "colab": {
     "autoexec": {
      "startup": false,
      "wait_interval": 0
     }
    },
    "colab_type": "code",
    "collapsed": true,
    "id": "IZSnJiQbGlw6"
   },
   "outputs": [],
   "source": [
    "df_train=pd.read_csv('./train.csv')"
   ]
  },
  {
   "cell_type": "code",
   "execution_count": null,
   "metadata": {
    "colab": {
     "autoexec": {
      "startup": false,
      "wait_interval": 0
     },
     "output_extras": [
      {}
     ]
    },
    "colab_type": "code",
    "id": "aIDlEoQ2Glw8",
    "outputId": "1d891320-297a-4ff4-be06-9d38fa55e229"
   },
   "outputs": [],
   "source": [
    "df_train.columns"
   ]
  },
  {
   "cell_type": "markdown",
   "metadata": {
    "colab_type": "text",
    "id": "aTaRaqHWGlxA"
   },
   "source": [
    "今回はSalePriceに影響が強いと思われる築年、面積、管理状態の評価（物件全体と地下室）の４変数で予測\n",
    "　目的変数：SalePrice <br>\n",
    "　説明変数：YearBuilt、GrLivArea、OverallCond、BsmtQual"
   ]
  },
  {
   "cell_type": "code",
   "execution_count": null,
   "metadata": {
    "colab": {
     "autoexec": {
      "startup": false,
      "wait_interval": 0
     },
     "output_extras": [
      {},
      {},
      {},
      {}
     ]
    },
    "colab_type": "code",
    "id": "6_C6yydXGlxB",
    "outputId": "8f160732-af46-4f82-ec61-a55aa0c82266"
   },
   "outputs": [],
   "source": [
    "var = 'YearBuilt'\n",
    "data = pd.concat([df_train['SalePrice'], df_train[var]], axis=1)\n",
    "data.plot.scatter(x=var, y='SalePrice', ylim=(0,800000),figsize=(12,6))\n",
    "\n",
    "var = 'GrLivArea'\n",
    "data = pd.concat([df_train['SalePrice'], df_train[var]], axis=1)\n",
    "data.plot.scatter(x=var, y='SalePrice', ylim=(0,800000),figsize=(12,6))\n",
    "\n",
    "var = 'OverallCond'\n",
    "data = pd.concat([df_train['SalePrice'], df_train[var]], axis=1)\n",
    "f, ax = plt.subplots(figsize=(8, 6))\n",
    "fig = sns.boxplot(x=var, y=\"SalePrice\", data=data)\n",
    "fig.axis(ymin=0, ymax=800000);\n",
    "\n",
    "var = 'BsmtQual'\n",
    "data = pd.concat([df_train['SalePrice'], df_train[var]], axis=1)\n",
    "f, ax = plt.subplots(figsize=(8, 6))\n",
    "fig = sns.boxplot(x=var, y=\"SalePrice\", data=data)\n",
    "fig.axis(ymin=0, ymax=800000);"
   ]
  },
  {
   "cell_type": "markdown",
   "metadata": {
    "colab_type": "text",
    "id": "_ajggjijGlxD"
   },
   "source": [
    "# データクレンジング・加工"
   ]
  },
  {
   "cell_type": "markdown",
   "metadata": {
    "colab_type": "text",
    "id": "ut6kKlYlGlxE"
   },
   "source": [
    "#### 外れ値の削除"
   ]
  },
  {
   "cell_type": "code",
   "execution_count": null,
   "metadata": {
    "colab": {
     "autoexec": {
      "startup": false,
      "wait_interval": 0
     }
    },
    "colab_type": "code",
    "collapsed": true,
    "id": "NtFS5pT0GlxF"
   },
   "outputs": [],
   "source": [
    "df_train.drop(df_train[df_train['GrLivArea']>=4000].index,inplace=True)"
   ]
  },
  {
   "cell_type": "markdown",
   "metadata": {
    "colab_type": "text",
    "id": "7rKgVpr_GlxH"
   },
   "source": [
    "#### 使うカラムによってデータセットを縮小"
   ]
  },
  {
   "cell_type": "code",
   "execution_count": null,
   "metadata": {
    "colab": {
     "autoexec": {
      "startup": false,
      "wait_interval": 0
     },
     "output_extras": [
      {}
     ]
    },
    "colab_type": "code",
    "id": "mz_BQefmGlxI",
    "outputId": "487e4b54-3c3c-4684-dd6c-5af84e0aa519"
   },
   "outputs": [],
   "source": [
    "df_x.head()"
   ]
  },
  {
   "cell_type": "code",
   "execution_count": null,
   "metadata": {
    "colab": {
     "autoexec": {
      "startup": false,
      "wait_interval": 0
     }
    },
    "colab_type": "code",
    "collapsed": true,
    "id": "nIT2n_rLGlxL"
   },
   "outputs": [],
   "source": [
    "df_train_shrinked=df_train.loc[:,['GrLivArea','YearBuilt','OverallCond','BsmtQual','SalePrice']]\n",
    "df_x=df_train_shrinked\n",
    "df_y=df_train_shrinked['SalePrice']\n",
    "del df_x['SalePrice']"
   ]
  },
  {
   "cell_type": "markdown",
   "metadata": {
    "colab_type": "text",
    "id": "tUa6f9b0GlxO"
   },
   "source": [
    "#### 欠損値補完"
   ]
  },
  {
   "cell_type": "code",
   "execution_count": null,
   "metadata": {
    "colab": {
     "autoexec": {
      "startup": false,
      "wait_interval": 0
     },
     "output_extras": [
      {}
     ]
    },
    "colab_type": "code",
    "id": "qSyQ8UklGlxP",
    "outputId": "5e470c27-46a9-4213-dfe0-fc38b82a9420"
   },
   "outputs": [],
   "source": [
    "#欠損値のあるカラムを探し出す\n",
    "\n",
    "for i in df_x.columns:\n",
    "    if sum(df_x[i].isnull())>0:\n",
    "        print(i)"
   ]
  },
  {
   "cell_type": "code",
   "execution_count": null,
   "metadata": {
    "colab": {
     "autoexec": {
      "startup": false,
      "wait_interval": 0
     }
    },
    "colab_type": "code",
    "collapsed": true,
    "id": "3nzaXmwNGlxT"
   },
   "outputs": [],
   "source": [
    "#欠損値　-> 'NA'　に変換\n",
    "df_x.loc[df_x['BsmtQual'].isnull()==True,'BsmtQual']='NA'"
   ]
  },
  {
   "cell_type": "code",
   "execution_count": null,
   "metadata": {
    "colab": {
     "autoexec": {
      "startup": false,
      "wait_interval": 0
     },
     "output_extras": [
      {}
     ]
    },
    "colab_type": "code",
    "id": "jxG1MOQyGlxV",
    "outputId": "a4b3b97e-8089-40d7-d48c-debaadddbe5b"
   },
   "outputs": [],
   "source": [
    "df_x['BsmtQual'].value_counts()"
   ]
  },
  {
   "cell_type": "markdown",
   "metadata": {
    "colab_type": "text",
    "id": "3Zv45dHPGlxZ"
   },
   "source": [
    "#### ダミー変数変換　※カテゴリカルデータをモデルの説明変数として利用する際に必要なデータ加工"
   ]
  },
  {
   "cell_type": "code",
   "execution_count": null,
   "metadata": {
    "colab": {
     "autoexec": {
      "startup": false,
      "wait_interval": 0
     },
     "output_extras": [
      {}
     ]
    },
    "colab_type": "code",
    "id": "gT7mibmQGlxb",
    "outputId": "f7e2ae81-a165-4e7f-f5ed-3a4e0a89b0f2"
   },
   "outputs": [],
   "source": [
    "df_x=pd.get_dummies(df_x)\n",
    "df_x.head()"
   ]
  },
  {
   "cell_type": "markdown",
   "metadata": {
    "colab_type": "text",
    "id": "cDIUM1EMGlxg"
   },
   "source": [
    "# モデル作成/モデル評価　※今回はシンプルに線形回帰分析を選定"
   ]
  },
  {
   "cell_type": "markdown",
   "metadata": {
    "colab_type": "text",
    "id": "MVNm9xj5Glxg"
   },
   "source": [
    "・モデル作成"
   ]
  },
  {
   "cell_type": "code",
   "execution_count": null,
   "metadata": {
    "colab": {
     "autoexec": {
      "startup": false,
      "wait_interval": 0
     }
    },
    "colab_type": "code",
    "collapsed": true,
    "id": "tPQSQ-SNGlxg"
   },
   "outputs": [],
   "source": [
    "clf =LinearRegression()"
   ]
  },
  {
   "cell_type": "code",
   "execution_count": null,
   "metadata": {
    "colab": {
     "autoexec": {
      "startup": false,
      "wait_interval": 0
     },
     "output_extras": [
      {}
     ]
    },
    "colab_type": "code",
    "id": "Qduc0TcyGlxj",
    "outputId": "0e2e7ddc-024b-41e9-965e-d65a17819ce6"
   },
   "outputs": [],
   "source": [
    "clf.fit(df_x, df_y)"
   ]
  },
  {
   "cell_type": "markdown",
   "metadata": {
    "colab_type": "text",
    "id": "K4a5SiuTGlxo"
   },
   "source": [
    "・モデル評価（モデルの精度指標と、説明変数の貢献度）"
   ]
  },
  {
   "cell_type": "code",
   "execution_count": null,
   "metadata": {
    "colab": {
     "autoexec": {
      "startup": false,
      "wait_interval": 0
     },
     "output_extras": [
      {},
      {}
     ]
    },
    "colab_type": "code",
    "id": "PBnJwDRyGlxp",
    "outputId": "c5643847-5170-409c-8225-fb58c93a6cb2"
   },
   "outputs": [],
   "source": [
    "import statsmodels.api as sm\n",
    "model = sm.OLS(df_y, df_x)\n",
    "results = model.fit()\n",
    "print(results.summary())"
   ]
  },
  {
   "cell_type": "markdown",
   "metadata": {
    "colab_type": "text",
    "id": "eAgA2eDPGlxu"
   },
   "source": [
    "・モデル評価（予実の比較）"
   ]
  },
  {
   "cell_type": "code",
   "execution_count": null,
   "metadata": {
    "colab": {
     "autoexec": {
      "startup": false,
      "wait_interval": 0
     },
     "output_extras": [
      {}
     ]
    },
    "colab_type": "code",
    "id": "u2ILw0ATGlxu",
    "outputId": "3b5c004f-10e3-4660-89ea-80745ad30251"
   },
   "outputs": [],
   "source": [
    "help(pd.tseries)"
   ]
  },
  {
   "cell_type": "markdown",
   "metadata": {
    "colab_type": "text",
    "id": "NxTWcEUVGlxw"
   },
   "source": [
    "・参考．予実の誤差"
   ]
  },
  {
   "cell_type": "code",
   "execution_count": null,
   "metadata": {
    "colab": {
     "autoexec": {
      "startup": false,
      "wait_interval": 0
     }
    },
    "colab_type": "code",
    "collapsed": true,
    "id": "9BRZbocSGlxw"
   },
   "outputs": [],
   "source": [
    "from sklearn.metrics import mean_squared_error\n",
    "def rmse(y_true, y_pred):\n",
    "    return np.sqrt(mean_squared_error(y_true, y_pred))"
   ]
  },
  {
   "cell_type": "code",
   "execution_count": null,
   "metadata": {
    "colab": {
     "autoexec": {
      "startup": false,
      "wait_interval": 0
     },
     "output_extras": [
      {}
     ]
    },
    "colab_type": "code",
    "id": "OdXmtvv-Glxz",
    "outputId": "3b67e2a0-6430-459b-b275-618ace8ca7c3"
   },
   "outputs": [],
   "source": [
    "rmse(clf.predict(df_x),df_y)"
   ]
  },
  {
   "cell_type": "code",
   "execution_count": null,
   "metadata": {
    "colab": {
     "autoexec": {
      "startup": false,
      "wait_interval": 0
     }
    },
    "colab_type": "code",
    "collapsed": true,
    "id": "tZ7NbKeOGlx2"
   },
   "outputs": [],
   "source": [
    "df_test=pd.read_csv('./test.csv')\n",
    "df_test_x=df_test.loc[:,['GrLivArea','YearBuilt','OverallCond','BsmtQual']]\n",
    "df_test_x.loc[df_test_x['BsmtQual'].isnull()==True,'BsmtQual']='NA'\n",
    "df_test_x=pd.get_dummies(df_test_x)\n",
    "\n",
    "y_pred = clf.predict(df_test_x)\n",
    "\n",
    "pred_df = pd.DataFrame(y_pred, index=df_test[\"Id\"], columns=[\"SalePrice\"])\n",
    "pred_df.to_csv('./output.csv', header=True, index_label='Id')"
   ]
  },
  {
   "cell_type": "markdown",
   "metadata": {
    "colab_type": "text",
    "id": "Nuo8vDpHGlx3"
   },
   "source": [
    "・モデル評価については以下を参照<br>\n",
    "　いまさら聞けない機械学習の評価関数（Gunosyデータ分析ブログ）<br>\n",
    "　http://data.gunosy.io/entry/2016/08/05/115345"
   ]
  },
  {
   "cell_type": "code",
   "execution_count": null,
   "metadata": {
    "colab": {
     "autoexec": {
      "startup": false,
      "wait_interval": 0
     },
     "output_extras": [
      {},
      {}
     ]
    },
    "colab_type": "code",
    "id": "32XP8zilGlx3",
    "outputId": "78fb632e-b1c4-4afe-cd85-12bded1d91d7"
   },
   "outputs": [],
   "source": [
    "sns.regplot(df_y,clf.predict(df_x))"
   ]
  },
  {
   "cell_type": "code",
   "execution_count": null,
   "metadata": {
    "colab": {
     "autoexec": {
      "startup": false,
      "wait_interval": 0
     },
     "output_extras": [
      {}
     ]
    },
    "colab_type": "code",
    "id": "Yn4CzYM0Glx6",
    "outputId": "98d280cc-1e50-46aa-8b9b-1915a269a58c"
   },
   "outputs": [],
   "source": [
    "df_x = df_x.copy()\n",
    "df_x1, df_x2, df_x3  =　np.split(df_x, [1000,300001]) \n",
    "df_y = df_y.copy()\n",
    "df_y1, df_y2, df_y3  =　np.split(df_y, [1000,300001]) \n",
    "\n",
    "sns.regplot(clf.predict(df_x3),df_y3)"
   ]
  }
 ],
 "metadata": {
  "colab": {
   "collapsed_sections": [],
   "default_view": {},
   "name": "Python_Analysis_Basic_2_Modeling.ipynb",
   "provenance": [],
   "version": "0.3.2",
   "views": {}
  },
  "kernelspec": {
   "display_name": "Python 3",
   "language": "python",
   "name": "python3"
  },
  "language_info": {
   "codemirror_mode": {
    "name": "ipython",
    "version": 3
   },
   "file_extension": ".py",
   "mimetype": "text/x-python",
   "name": "python",
   "nbconvert_exporter": "python",
   "pygments_lexer": "ipython3",
   "version": "3.6.1"
  }
 },
 "nbformat": 4,
 "nbformat_minor": 1
}
