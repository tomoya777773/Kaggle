{
 "cells": [
  {
   "cell_type": "code",
   "execution_count": null,
   "metadata": {
    "collapsed": true
   },
   "outputs": [],
   "source": [
    "import pandas as pd\n",
    "import numpy as np\n",
    "from scipy.stats import norm\n",
    "import random\n",
    "import seaborn as sns\n",
    "import matplotlib.pyplot as plt\n",
    "from sklearn.preprocessing import StandardScaler\n",
    "%matplotlib inline"
   ]
  },
  {
   "cell_type": "markdown",
   "metadata": {},
   "source": [
    "---\n",
    "## 外れ値の削除\n",
    "---"
   ]
  },
  {
   "cell_type": "code",
   "execution_count": null,
   "metadata": {},
   "outputs": [],
   "source": [
    "A=pd.read_csv('./train.csv')\n",
    "numerical_var=A.dtypes[A.dtypes !='object'].index\n",
    "numerical_var"
   ]
  },
  {
   "cell_type": "code",
   "execution_count": null,
   "metadata": {},
   "outputs": [],
   "source": [
    "var='LotArea'\n",
    "A.plot.scatter(x=var,y='SalePrice',ylim=(0,800000))"
   ]
  },
  {
   "cell_type": "code",
   "execution_count": null,
   "metadata": {
    "scrolled": true
   },
   "outputs": [],
   "source": [
    "A.drop(A[A['LotArea']>=100000].index,inplace=True)\n",
    "A.plot.scatter(x=var,y='SalePrice',ylim=(0,800000))"
   ]
  },
  {
   "cell_type": "markdown",
   "metadata": {},
   "source": [
    "---\n",
    "## 欠損値処理\n",
    "---"
   ]
  },
  {
   "cell_type": "code",
   "execution_count": null,
   "metadata": {
    "scrolled": true
   },
   "outputs": [],
   "source": [
    "A=pd.read_csv('./train.csv')\n",
    "for i in A.columns:\n",
    "    if A[i].isnull().sum()>0:\n",
    "        print('{0}: {1}'.format(i,A[i].isnull().sum()))"
   ]
  },
  {
   "cell_type": "markdown",
   "metadata": {},
   "source": [
    "#### 処理方法： *LotFrontage* を例として"
   ]
  },
  {
   "cell_type": "code",
   "execution_count": null,
   "metadata": {
    "collapsed": true
   },
   "outputs": [],
   "source": [
    "A=pd.read_csv('./train.csv')\n",
    "#中位数\n",
    "A.loc[A['LotFrontage'].isnull()==True,'LotFrontage']=A['LotFrontage'].median()"
   ]
  },
  {
   "cell_type": "code",
   "execution_count": null,
   "metadata": {
    "collapsed": true
   },
   "outputs": [],
   "source": [
    "A=pd.read_csv('./train.csv')\n",
    "#平均数\n",
    "A.loc[A['LotFrontage'].isnull()==True,'LotFrontage']=A['LotFrontage'].mean()"
   ]
  },
  {
   "cell_type": "code",
   "execution_count": null,
   "metadata": {
    "collapsed": true
   },
   "outputs": [],
   "source": [
    "A=pd.read_csv('./train.csv')\n",
    "#最頻値\n",
    "A.loc[A['LotFrontage'].isnull()==True,'LotFrontage']=A['LotFrontage'].mode()"
   ]
  },
  {
   "cell_type": "code",
   "execution_count": null,
   "metadata": {
    "collapsed": true
   },
   "outputs": [],
   "source": [
    "A=pd.read_csv('./train.csv')\n",
    "#0\n",
    "A.loc[A['LotFrontage'].isnull()==True,'LotFrontage']=0"
   ]
  },
  {
   "cell_type": "code",
   "execution_count": null,
   "metadata": {
    "collapsed": true
   },
   "outputs": [],
   "source": [
    "A=pd.read_csv('./train.csv')\n",
    "#カラム削除\n",
    "A.drop('LotFrontage',axis=1,inplace=True)\n",
    "#などなど"
   ]
  },
  {
   "cell_type": "markdown",
   "metadata": {
    "collapsed": true
   },
   "source": [
    "---\n",
    "## 追加変数\n",
    "---"
   ]
  },
  {
   "cell_type": "markdown",
   "metadata": {},
   "source": [
    "### 量的変数のbin\n",
    "#### 地域別物件価格中位数を用いて分類する"
   ]
  },
  {
   "cell_type": "code",
   "execution_count": null,
   "metadata": {
    "collapsed": true
   },
   "outputs": [],
   "source": [
    "A=pd.read_csv('./train.csv')\n",
    "neighbor_price=dict(A['SalePrice'].groupby(A['Neighborhood']).median())\n",
    "A['neighbor_bins']=0"
   ]
  },
  {
   "cell_type": "code",
   "execution_count": null,
   "metadata": {
    "collapsed": true
   },
   "outputs": [],
   "source": [
    "for i in neighbor_price:\n",
    "    if neighbor_price[i]<=100000:\n",
    "        neighbor_price[i]=1\n",
    "    elif (neighbor_price[i]>100000) & (neighbor_price[i]<=200000):\n",
    "        neighbor_price[i]=2\n",
    "    elif (neighbor_price[i]>200000) & (neighbor_price[i]<=300000):\n",
    "        neighbor_price[i]=3\n",
    "    else:\n",
    "        neighbor_price[i]=4\n",
    "        \n",
    "for i in neighbor_price:\n",
    "    A.loc[A['Neighborhood']==i,'neighbor_bins']=neighbor_price[i]"
   ]
  },
  {
   "cell_type": "code",
   "execution_count": null,
   "metadata": {},
   "outputs": [],
   "source": [
    "A.loc[:,['Neighborhood','neighbor_bins']].head(5)"
   ]
  },
  {
   "cell_type": "markdown",
   "metadata": {},
   "source": [
    "---\n",
    "### 質的変数のカテゴリーの統合\n",
    "---"
   ]
  },
  {
   "cell_type": "code",
   "execution_count": null,
   "metadata": {},
   "outputs": [],
   "source": [
    "A=pd.read_csv('./train.csv')\n",
    "obj_var=A.dtypes[A.dtypes =='object'].index\n",
    "obj_var"
   ]
  },
  {
   "cell_type": "code",
   "execution_count": null,
   "metadata": {},
   "outputs": [],
   "source": [
    "A['LandSlope'].value_counts()"
   ]
  },
  {
   "cell_type": "code",
   "execution_count": null,
   "metadata": {},
   "outputs": [],
   "source": [
    "A.loc[A['LandSlope']!='Gtl','LandSlope']='NoGtl'\n",
    "A['LandSlope'].value_counts()"
   ]
  },
  {
   "cell_type": "markdown",
   "metadata": {},
   "source": [
    "---\n",
    "## 正規化\n",
    "---"
   ]
  },
  {
   "cell_type": "code",
   "execution_count": null,
   "metadata": {
    "scrolled": true
   },
   "outputs": [],
   "source": [
    "A=pd.read_csv('./train.csv')\n",
    "B=pd.DataFrame()\n",
    "B['SalePrice']=A['SalePrice']\n",
    "B['SalePrice']=np.log1p(B['SalePrice'])    #対数をとる：　log(1+x); 指数関数 exp(x)-1 のコマンド：　np.expm1 ; log,expを使っても構わない\n",
    "D=B\n",
    "\n",
    "scaler = StandardScaler()\n",
    "scaler.fit(D)\n",
    "C=pd.DataFrame(scaler.transform(D))\n",
    "C.columns=['SalePrice']\n",
    "\n",
    "fig,ax=plt.subplots(1,3,figsize=(15,5))\n",
    "sns.distplot(A['SalePrice'],fit=norm,ax=ax[0])\n",
    "sns.distplot(B['SalePrice'],fit=norm,ax=ax[1])\n",
    "sns.distplot(C['SalePrice'],fit=norm,ax=ax[2])"
   ]
  },
  {
   "cell_type": "code",
   "execution_count": null,
   "metadata": {
    "collapsed": true
   },
   "outputs": [],
   "source": []
  }
 ],
 "metadata": {
  "kernelspec": {
   "display_name": "Python 3",
   "language": "python",
   "name": "python3"
  },
  "language_info": {
   "codemirror_mode": {
    "name": "ipython",
    "version": 3
   },
   "file_extension": ".py",
   "mimetype": "text/x-python",
   "name": "python",
   "nbconvert_exporter": "python",
   "pygments_lexer": "ipython3",
   "version": "3.6.1"
  }
 },
 "nbformat": 4,
 "nbformat_minor": 2
}
