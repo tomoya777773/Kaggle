{
 "cells": [
  {
   "cell_type": "markdown",
   "metadata": {},
   "source": [
    "# 事前環境設定"
   ]
  },
  {
   "cell_type": "code",
   "execution_count": 1,
   "metadata": {},
   "outputs": [],
   "source": [
    "import pandas as pd\n",
    "import numpy as np\n",
    "import seaborn as sns\n",
    "import matplotlib.pyplot as plt\n",
    "from sklearn.linear_model import LinearRegression\n",
    "import statsmodels.api as stat\n",
    "import warnings\n",
    "from sklearn.metrics import mean_squared_error\n",
    "def rmse(y_true, y_pred):\n",
    "    return np.sqrt(mean_squared_error(y_true, y_pred))\n",
    "warnings.simplefilter(\"ignore\")\n",
    "%matplotlib inline"
   ]
  },
  {
   "cell_type": "code",
   "execution_count": 2,
   "metadata": {},
   "outputs": [],
   "source": [
    "df_train = pd.read_csv('./train.csv')"
   ]
  },
  {
   "cell_type": "markdown",
   "metadata": {},
   "source": [
    "## 例：立地を元のモデルに追加してみる"
   ]
  },
  {
   "cell_type": "markdown",
   "metadata": {},
   "source": [
    "# 可視化"
   ]
  },
  {
   "cell_type": "code",
   "execution_count": 3,
   "metadata": {},
   "outputs": [
    {
     "data": {
      "text/plain": [
       "<matplotlib.axes._subplots.AxesSubplot at 0x11a260f60>"
      ]
     },
     "execution_count": 3,
     "metadata": {},
     "output_type": "execute_result"
    },
    {
     "data": {
      "image/png": "[encoded data removed]",
      "text/plain": [
       "<Figure size 432x288 with 1 Axes>"
      ]
     },
     "metadata": {
      "needs_background": "light"
     },
     "output_type": "display_data"
    }
   ],
   "source": [
    "# 地域別価格の中央値\n",
    "df_train['SalePrice'].groupby(df_train['Neighborhood']).median().sort_values().plot('barh')"
   ]
  },
  {
   "cell_type": "code",
   "execution_count": 4,
   "metadata": {},
   "outputs": [
    {
     "data": {
      "text/plain": [
       "count        25.000000\n",
       "mean     176515.960000\n",
       "std       60700.369519\n",
       "min       88000.000000\n",
       "25%      135000.000000\n",
       "50%      179900.000000\n",
       "75%      200624.000000\n",
       "max      315000.000000\n",
       "Name: SalePrice, dtype: float64"
      ]
     },
     "execution_count": 4,
     "metadata": {},
     "output_type": "execute_result"
    }
   ],
   "source": [
    "# 地域別価格のサマリー\n",
    "df_train.groupby('Neighborhood').SalePrice.median().describe()"
   ]
  },
  {
   "cell_type": "code",
   "execution_count": 5,
   "metadata": {},
   "outputs": [],
   "source": [
    "# 価格の中央値によりA、Bラベルを付ける\n",
    "nb_bins=df_train.loc[:,['Neighborhood','SalePrice']]\n",
    "nb_bins.loc[nb_bins['SalePrice']>=179900,'bins']='A'\n",
    "nb_bins.loc[nb_bins['SalePrice']<179900,'bins']='B'"
   ]
  },
  {
   "cell_type": "code",
   "execution_count": 6,
   "metadata": {},
   "outputs": [
    {
     "data": {
      "text/html": [
       "<div>\n",
       "<style scoped>\n",
       "    .dataframe tbody tr th:only-of-type {\n",
       "        vertical-align: middle;\n",
       "    }\n",
       "\n",
       "    .dataframe tbody tr th {\n",
       "        vertical-align: top;\n",
       "    }\n",
       "\n",
       "    .dataframe thead th {\n",
       "        text-align: right;\n",
       "    }\n",
       "</style>\n",
       "<table border=\"1\" class=\"dataframe\">\n",
       "  <thead>\n",
       "    <tr style=\"text-align: right;\">\n",
       "      <th></th>\n",
       "      <th>Neighborhood</th>\n",
       "      <th>bin</th>\n",
       "    </tr>\n",
       "  </thead>\n",
       "  <tbody>\n",
       "    <tr>\n",
       "      <th>0</th>\n",
       "      <td>CollgCr</td>\n",
       "      <td>A</td>\n",
       "    </tr>\n",
       "    <tr>\n",
       "      <th>1</th>\n",
       "      <td>Veenker</td>\n",
       "      <td>A</td>\n",
       "    </tr>\n",
       "    <tr>\n",
       "      <th>2</th>\n",
       "      <td>Crawfor</td>\n",
       "      <td>A</td>\n",
       "    </tr>\n",
       "    <tr>\n",
       "      <th>3</th>\n",
       "      <td>NoRidge</td>\n",
       "      <td>A</td>\n",
       "    </tr>\n",
       "    <tr>\n",
       "      <th>4</th>\n",
       "      <td>Mitchel</td>\n",
       "      <td>B</td>\n",
       "    </tr>\n",
       "    <tr>\n",
       "      <th>5</th>\n",
       "      <td>Somerst</td>\n",
       "      <td>A</td>\n",
       "    </tr>\n",
       "    <tr>\n",
       "      <th>6</th>\n",
       "      <td>NWAmes</td>\n",
       "      <td>A</td>\n",
       "    </tr>\n",
       "    <tr>\n",
       "      <th>7</th>\n",
       "      <td>OldTown</td>\n",
       "      <td>B</td>\n",
       "    </tr>\n",
       "    <tr>\n",
       "      <th>8</th>\n",
       "      <td>BrkSide</td>\n",
       "      <td>B</td>\n",
       "    </tr>\n",
       "    <tr>\n",
       "      <th>9</th>\n",
       "      <td>Sawyer</td>\n",
       "      <td>B</td>\n",
       "    </tr>\n",
       "    <tr>\n",
       "      <th>10</th>\n",
       "      <td>NridgHt</td>\n",
       "      <td>A</td>\n",
       "    </tr>\n",
       "    <tr>\n",
       "      <th>11</th>\n",
       "      <td>NAmes</td>\n",
       "      <td>B</td>\n",
       "    </tr>\n",
       "    <tr>\n",
       "      <th>12</th>\n",
       "      <td>SawyerW</td>\n",
       "      <td>A</td>\n",
       "    </tr>\n",
       "    <tr>\n",
       "      <th>13</th>\n",
       "      <td>IDOTRR</td>\n",
       "      <td>B</td>\n",
       "    </tr>\n",
       "    <tr>\n",
       "      <th>14</th>\n",
       "      <td>MeadowV</td>\n",
       "      <td>B</td>\n",
       "    </tr>\n",
       "    <tr>\n",
       "      <th>15</th>\n",
       "      <td>Edwards</td>\n",
       "      <td>B</td>\n",
       "    </tr>\n",
       "    <tr>\n",
       "      <th>16</th>\n",
       "      <td>Timber</td>\n",
       "      <td>A</td>\n",
       "    </tr>\n",
       "    <tr>\n",
       "      <th>17</th>\n",
       "      <td>Gilbert</td>\n",
       "      <td>A</td>\n",
       "    </tr>\n",
       "    <tr>\n",
       "      <th>18</th>\n",
       "      <td>StoneBr</td>\n",
       "      <td>A</td>\n",
       "    </tr>\n",
       "    <tr>\n",
       "      <th>19</th>\n",
       "      <td>ClearCr</td>\n",
       "      <td>A</td>\n",
       "    </tr>\n",
       "    <tr>\n",
       "      <th>20</th>\n",
       "      <td>NPkVill</td>\n",
       "      <td>B</td>\n",
       "    </tr>\n",
       "    <tr>\n",
       "      <th>21</th>\n",
       "      <td>Blmngtn</td>\n",
       "      <td>A</td>\n",
       "    </tr>\n",
       "    <tr>\n",
       "      <th>22</th>\n",
       "      <td>BrDale</td>\n",
       "      <td>B</td>\n",
       "    </tr>\n",
       "    <tr>\n",
       "      <th>23</th>\n",
       "      <td>SWISU</td>\n",
       "      <td>B</td>\n",
       "    </tr>\n",
       "    <tr>\n",
       "      <th>24</th>\n",
       "      <td>Blueste</td>\n",
       "      <td>B</td>\n",
       "    </tr>\n",
       "  </tbody>\n",
       "</table>\n",
       "</div>"
      ],
      "text/plain": [
       "   Neighborhood bin\n",
       "0       CollgCr   A\n",
       "1       Veenker   A\n",
       "2       Crawfor   A\n",
       "3       NoRidge   A\n",
       "4       Mitchel   B\n",
       "5       Somerst   A\n",
       "6        NWAmes   A\n",
       "7       OldTown   B\n",
       "8       BrkSide   B\n",
       "9        Sawyer   B\n",
       "10      NridgHt   A\n",
       "11        NAmes   B\n",
       "12      SawyerW   A\n",
       "13       IDOTRR   B\n",
       "14      MeadowV   B\n",
       "15      Edwards   B\n",
       "16       Timber   A\n",
       "17      Gilbert   A\n",
       "18      StoneBr   A\n",
       "19      ClearCr   A\n",
       "20      NPkVill   B\n",
       "21      Blmngtn   A\n",
       "22       BrDale   B\n",
       "23        SWISU   B\n",
       "24      Blueste   B"
      ]
     },
     "execution_count": 6,
     "metadata": {},
     "output_type": "execute_result"
    }
   ],
   "source": [
    "# 地域の組み分けリストの作成\n",
    "nb_list=pd.DataFrame()\n",
    "for i in nb_bins['Neighborhood']:\n",
    "    bins = nb_bins.loc[nb_bins['Neighborhood']==i,'bins'].describe()['top']\n",
    "    AP=pd.DataFrame([i,bins]).T\n",
    "    nb_list = nb_list.append(AP)\n",
    "nb_list=nb_list.drop_duplicates()\n",
    "nb_list.index=range(len(nb_list))\n",
    "nb_list.columns=['Neighborhood','bin']\n",
    "nb_list"
   ]
  },
  {
   "cell_type": "code",
   "execution_count": 7,
   "metadata": {
    "scrolled": true
   },
   "outputs": [
    {
     "data": {
      "text/plain": [
       "True"
      ]
     },
     "execution_count": 7,
     "metadata": {},
     "output_type": "execute_result"
    }
   ],
   "source": [
    "#　作成されたリストのチェック\n",
    "len(nb_list)==len(df_train['Neighborhood'].value_counts())"
   ]
  },
  {
   "cell_type": "code",
   "execution_count": 8,
   "metadata": {},
   "outputs": [],
   "source": [
    "def preprocess(train_flg,nb_list):\n",
    "    if train_flg:\n",
    "        df = pd.read_csv('./train.csv')\n",
    "        df.drop(df[df['GrLivArea']>=4000].index,inplace=True)\n",
    "        df_y=df['SalePrice']\n",
    "    else:\n",
    "        df = pd.read_csv('./test.csv')\n",
    "    cols=['GrLivArea','YearBuilt','OverallCond','BsmtQual','Neighborhood']\n",
    "    df_x = df.loc[:,cols]\n",
    "    # 立地を地域リストにより変換\n",
    "    for i in range(len(nb_list)):\n",
    "        df_x.loc[df_x['Neighborhood']==nb_list.loc[i,'Neighborhood'],'Neighborhood'] = nb_list.loc[i,'bin']\n",
    "        \n",
    "    df_x.loc[df_x['BsmtQual'].isnull()==True,'BsmtQual']='NA'\n",
    "    df_x=pd.get_dummies(df_x)\n",
    "    if train_flg:\n",
    "        return df_x,df_y\n",
    "    else:\n",
    "        return df_x,df['Id']"
   ]
  },
  {
   "cell_type": "code",
   "execution_count": 9,
   "metadata": {},
   "outputs": [],
   "source": [
    "df_x,df_y=preprocess(True,nb_list)"
   ]
  },
  {
   "cell_type": "markdown",
   "metadata": {},
   "source": [
    "## 線形回帰"
   ]
  },
  {
   "cell_type": "code",
   "execution_count": 10,
   "metadata": {
    "scrolled": false
   },
   "outputs": [
    {
     "data": {
      "text/html": [
       "<table class=\"simpletable\">\n",
       "<caption>OLS Regression Results</caption>\n",
       "<tr>\n",
       "  <th>Dep. Variable:</th>        <td>SalePrice</td>    <th>  R-squared:         </th> <td>   0.787</td> \n",
       "</tr>\n",
       "<tr>\n",
       "  <th>Model:</th>                   <td>OLS</td>       <th>  Adj. R-squared:    </th> <td>   0.786</td> \n",
       "</tr>\n",
       "<tr>\n",
       "  <th>Method:</th>             <td>Least Squares</td>  <th>  F-statistic:       </th> <td>   667.3</td> \n",
       "</tr>\n",
       "<tr>\n",
       "  <th>Date:</th>             <td>Sun, 21 Apr 2019</td> <th>  Prob (F-statistic):</th>  <td>  0.00</td>  \n",
       "</tr>\n",
       "<tr>\n",
       "  <th>Time:</th>                 <td>17:26:33</td>     <th>  Log-Likelihood:    </th> <td> -17317.</td> \n",
       "</tr>\n",
       "<tr>\n",
       "  <th>No. Observations:</th>      <td>  1456</td>      <th>  AIC:               </th> <td>3.465e+04</td>\n",
       "</tr>\n",
       "<tr>\n",
       "  <th>Df Residuals:</th>          <td>  1447</td>      <th>  BIC:               </th> <td>3.470e+04</td>\n",
       "</tr>\n",
       "<tr>\n",
       "  <th>Df Model:</th>              <td>     8</td>      <th>                     </th>     <td> </td>    \n",
       "</tr>\n",
       "<tr>\n",
       "  <th>Covariance Type:</th>      <td>nonrobust</td>    <th>                     </th>     <td> </td>    \n",
       "</tr>\n",
       "</table>\n",
       "<table class=\"simpletable\">\n",
       "<tr>\n",
       "         <td></td>           <th>coef</th>     <th>std err</th>      <th>t</th>      <th>P>|t|</th>  <th>[0.025</th>    <th>0.975]</th>  \n",
       "</tr>\n",
       "<tr>\n",
       "  <th>GrLivArea</th>      <td>   82.1594</td> <td>    2.127</td> <td>   38.627</td> <td> 0.000</td> <td>   77.987</td> <td>   86.332</td>\n",
       "</tr>\n",
       "<tr>\n",
       "  <th>YearBuilt</th>      <td>  717.5461</td> <td>   52.227</td> <td>   13.739</td> <td> 0.000</td> <td>  615.097</td> <td>  819.995</td>\n",
       "</tr>\n",
       "<tr>\n",
       "  <th>OverallCond</th>    <td> 9766.5959</td> <td>  912.761</td> <td>   10.700</td> <td> 0.000</td> <td> 7976.120</td> <td> 1.16e+04</td>\n",
       "</tr>\n",
       "<tr>\n",
       "  <th>BsmtQual_Ex</th>    <td>-3.287e+05</td> <td> 3.17e+04</td> <td>  -10.356</td> <td> 0.000</td> <td>-3.91e+05</td> <td>-2.66e+05</td>\n",
       "</tr>\n",
       "<tr>\n",
       "  <th>BsmtQual_Fa</th>    <td> -4.15e+05</td> <td> 2.86e+04</td> <td>  -14.488</td> <td> 0.000</td> <td>-4.71e+05</td> <td>-3.59e+05</td>\n",
       "</tr>\n",
       "<tr>\n",
       "  <th>BsmtQual_Gd</th>    <td>-4.117e+05</td> <td>  3.1e+04</td> <td>  -13.292</td> <td> 0.000</td> <td>-4.73e+05</td> <td>-3.51e+05</td>\n",
       "</tr>\n",
       "<tr>\n",
       "  <th>BsmtQual_NA</th>    <td>-4.405e+05</td> <td>    3e+04</td> <td>  -14.669</td> <td> 0.000</td> <td>-4.99e+05</td> <td>-3.82e+05</td>\n",
       "</tr>\n",
       "<tr>\n",
       "  <th>BsmtQual_TA</th>    <td>-4.148e+05</td> <td> 2.96e+04</td> <td>  -14.014</td> <td> 0.000</td> <td>-4.73e+05</td> <td>-3.57e+05</td>\n",
       "</tr>\n",
       "<tr>\n",
       "  <th>Neighborhood_A</th> <td>-9.947e+05</td> <td> 7.54e+04</td> <td>  -13.190</td> <td> 0.000</td> <td>-1.14e+06</td> <td>-8.47e+05</td>\n",
       "</tr>\n",
       "<tr>\n",
       "  <th>Neighborhood_B</th> <td>-1.016e+06</td> <td> 7.44e+04</td> <td>  -13.665</td> <td> 0.000</td> <td>-1.16e+06</td> <td> -8.7e+05</td>\n",
       "</tr>\n",
       "</table>\n",
       "<table class=\"simpletable\">\n",
       "<tr>\n",
       "  <th>Omnibus:</th>       <td>340.386</td> <th>  Durbin-Watson:     </th> <td>   2.005</td>\n",
       "</tr>\n",
       "<tr>\n",
       "  <th>Prob(Omnibus):</th> <td> 0.000</td>  <th>  Jarque-Bera (JB):  </th> <td>2148.757</td>\n",
       "</tr>\n",
       "<tr>\n",
       "  <th>Skew:</th>          <td> 0.932</td>  <th>  Prob(JB):          </th> <td>    0.00</td>\n",
       "</tr>\n",
       "<tr>\n",
       "  <th>Kurtosis:</th>      <td> 8.652</td>  <th>  Cond. No.          </th> <td>2.06e+19</td>\n",
       "</tr>\n",
       "</table><br/><br/>Warnings:<br/>[1] Standard Errors assume that the covariance matrix of the errors is correctly specified.<br/>[2] The smallest eigenvalue is 2.14e-29. This might indicate that there are<br/>strong multicollinearity problems or that the design matrix is singular."
      ],
      "text/plain": [
       "<class 'statsmodels.iolib.summary.Summary'>\n",
       "\"\"\"\n",
       "                            OLS Regression Results                            \n",
       "==============================================================================\n",
       "Dep. Variable:              SalePrice   R-squared:                       0.787\n",
       "Model:                            OLS   Adj. R-squared:                  0.786\n",
       "Method:                 Least Squares   F-statistic:                     667.3\n",
       "Date:                Sun, 21 Apr 2019   Prob (F-statistic):               0.00\n",
       "Time:                        17:26:33   Log-Likelihood:                -17317.\n",
       "No. Observations:                1456   AIC:                         3.465e+04\n",
       "Df Residuals:                    1447   BIC:                         3.470e+04\n",
       "Df Model:                           8                                         \n",
       "Covariance Type:            nonrobust                                         \n",
       "==================================================================================\n",
       "                     coef    std err          t      P>|t|      [0.025      0.975]\n",
       "----------------------------------------------------------------------------------\n",
       "GrLivArea         82.1594      2.127     38.627      0.000      77.987      86.332\n",
       "YearBuilt        717.5461     52.227     13.739      0.000     615.097     819.995\n",
       "OverallCond     9766.5959    912.761     10.700      0.000    7976.120    1.16e+04\n",
       "BsmtQual_Ex    -3.287e+05   3.17e+04    -10.356      0.000   -3.91e+05   -2.66e+05\n",
       "BsmtQual_Fa     -4.15e+05   2.86e+04    -14.488      0.000   -4.71e+05   -3.59e+05\n",
       "BsmtQual_Gd    -4.117e+05    3.1e+04    -13.292      0.000   -4.73e+05   -3.51e+05\n",
       "BsmtQual_NA    -4.405e+05      3e+04    -14.669      0.000   -4.99e+05   -3.82e+05\n",
       "BsmtQual_TA    -4.148e+05   2.96e+04    -14.014      0.000   -4.73e+05   -3.57e+05\n",
       "Neighborhood_A -9.947e+05   7.54e+04    -13.190      0.000   -1.14e+06   -8.47e+05\n",
       "Neighborhood_B -1.016e+06   7.44e+04    -13.665      0.000   -1.16e+06    -8.7e+05\n",
       "==============================================================================\n",
       "Omnibus:                      340.386   Durbin-Watson:                   2.005\n",
       "Prob(Omnibus):                  0.000   Jarque-Bera (JB):             2148.757\n",
       "Skew:                           0.932   Prob(JB):                         0.00\n",
       "Kurtosis:                       8.652   Cond. No.                     2.06e+19\n",
       "==============================================================================\n",
       "\n",
       "Warnings:\n",
       "[1] Standard Errors assume that the covariance matrix of the errors is correctly specified.\n",
       "[2] The smallest eigenvalue is 2.14e-29. This might indicate that there are\n",
       "strong multicollinearity problems or that the design matrix is singular.\n",
       "\"\"\""
      ]
     },
     "execution_count": 10,
     "metadata": {},
     "output_type": "execute_result"
    }
   ],
   "source": [
    "clf = stat.OLS(df_y,df_x)\n",
    "result = clf.fit()\n",
    "result.summary()"
   ]
  },
  {
   "cell_type": "code",
   "execution_count": 11,
   "metadata": {},
   "outputs": [
    {
     "name": "stdout",
     "output_type": "stream",
     "text": [
      "RMSE:35405.6502428004\n"
     ]
    },
    {
     "data": {
      "image/png": "[encoded data removed]",
      "text/plain": [
       "<Figure size 432x288 with 1 Axes>"
      ]
     },
     "metadata": {
      "needs_background": "light"
     },
     "output_type": "display_data"
    },
    {
     "data": {
      "text/plain": [
       "Text(0.5, 1.0, 'Coefficients in the Linear Model')"
      ]
     },
     "execution_count": 11,
     "metadata": {},
     "output_type": "execute_result"
    },
    {
     "data": {
      "image/png": "[encoded data removed]",
      "text/plain": [
       "<Figure size 432x288 with 1 Axes>"
      ]
     },
     "metadata": {
      "needs_background": "light"
     },
     "output_type": "display_data"
    }
   ],
   "source": [
    "clf=LinearRegression()\n",
    "clf.fit(df_x,df_y)\n",
    "print('RMSE:{0}'.format(rmse(clf.predict(df_x),df_y)))\n",
    "sns.regplot(clf.predict(df_x),df_y)\n",
    "plt.title('pred vs real')\n",
    "plt.show()\n",
    "coef=pd.Series(clf.coef_, index = df_x.columns)\n",
    "coef.sort_values(ascending=True).plot('barh')\n",
    "plt.title('Coefficients in the Linear Model')"
   ]
  },
  {
   "cell_type": "markdown",
   "metadata": {},
   "source": [
    "# テストセットの予測"
   ]
  },
  {
   "cell_type": "code",
   "execution_count": null,
   "metadata": {
    "collapsed": true
   },
   "outputs": [],
   "source": [
    "df_test_x,df_test_id = preprocess(False,nb_list)"
   ]
  },
  {
   "cell_type": "code",
   "execution_count": null,
   "metadata": {
    "collapsed": true
   },
   "outputs": [],
   "source": [
    "# 上記の線形モデルで価格を予測、CSV出力\n",
    "df_test_x=pd.get_dummies(df_test_x)\n",
    "y_pred=clf.predict(df_test_x)\n",
    "pred_df=pd.DataFrame(y_pred, index=df_test_id, columns=[\"SalePrice\"])\n",
    "pred_df.to_csv('./output.csv', header=True, index_label='Id')"
   ]
  },
  {
   "cell_type": "markdown",
   "metadata": {},
   "source": [
    "# Appendix　変換辞書の作成"
   ]
  },
  {
   "cell_type": "markdown",
   "metadata": {},
   "source": [
    "## 例：販売月（MoSold）"
   ]
  },
  {
   "cell_type": "code",
   "execution_count": null,
   "metadata": {},
   "outputs": [],
   "source": [
    "df_train.groupby(['MoSold']).SalePrice.count().plot('bar')"
   ]
  },
  {
   "cell_type": "code",
   "execution_count": null,
   "metadata": {},
   "outputs": [],
   "source": [
    "mo_bins = {\n",
    "    1:1,\n",
    "    2:1,\n",
    "    3:2,\n",
    "    4:2,\n",
    "    5:3,\n",
    "    6:3,\n",
    "    7:3,\n",
    "    8:2,\n",
    "    9:1,\n",
    "    10:1,\n",
    "    11:1,\n",
    "    12:1\n",
    "}\n",
    "def get_bins(x):\n",
    "    x = mo_bins[x]\n",
    "    return x\n",
    "df_train['MoSold'].apply(get_bins)"
   ]
  },
  {
   "cell_type": "code",
   "execution_count": null,
   "metadata": {
    "collapsed": true
   },
   "outputs": [],
   "source": []
  }
 ],
 "metadata": {
  "kernelspec": {
   "display_name": "Python 3",
   "language": "python",
   "name": "python3"
  },
  "language_info": {
   "codemirror_mode": {
    "name": "ipython",
    "version": 3
   },
   "file_extension": ".py",
   "mimetype": "text/x-python",
   "name": "python",
   "nbconvert_exporter": "python",
   "pygments_lexer": "ipython3",
   "version": "3.6.5"
  }
 },
 "nbformat": 4,
 "nbformat_minor": 2
}
