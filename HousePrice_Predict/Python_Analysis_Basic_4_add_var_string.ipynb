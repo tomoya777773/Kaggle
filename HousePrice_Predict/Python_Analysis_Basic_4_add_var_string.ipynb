{
 "cells": [
  {
   "cell_type": "markdown",
   "metadata": {},
   "source": [
    "# 事前環境設定"
   ]
  },
  {
   "cell_type": "code",
   "execution_count": null,
   "metadata": {},
   "outputs": [],
   "source": [
    "import pandas as pd\n",
    "import numpy as np\n",
    "import seaborn as sns\n",
    "import matplotlib.pyplot as plt\n",
    "from sklearn.linear_model import LinearRegression\n",
    "import statsmodels.api as stat\n",
    "import warnings\n",
    "from sklearn.metrics import mean_squared_error\n",
    "def rmse(y_true, y_pred):\n",
    "    return np.sqrt(mean_squared_error(y_true, y_pred))\n",
    "warnings.simplefilter(\"ignore\")\n",
    "%matplotlib inline"
   ]
  },
  {
   "cell_type": "code",
   "execution_count": null,
   "metadata": {
    "collapsed": true
   },
   "outputs": [],
   "source": [
    "df_train = pd.read_csv('./train.csv')"
   ]
  },
  {
   "cell_type": "markdown",
   "metadata": {},
   "source": [
    "## 例：立地を元のモデルに追加してみる"
   ]
  },
  {
   "cell_type": "markdown",
   "metadata": {},
   "source": [
    "# 可視化"
   ]
  },
  {
   "cell_type": "code",
   "execution_count": null,
   "metadata": {},
   "outputs": [],
   "source": [
    "# 地域別価格の中央値\n",
    "df_train['SalePrice'].groupby(df_train['Neighborhood']).median().sort_values().plot('barh')"
   ]
  },
  {
   "cell_type": "code",
   "execution_count": null,
   "metadata": {},
   "outputs": [],
   "source": [
    "# 地域別価格のサマリー\n",
    "df_train.groupby('Neighborhood').SalePrice.median().describe()"
   ]
  },
  {
   "cell_type": "code",
   "execution_count": null,
   "metadata": {
    "collapsed": true
   },
   "outputs": [],
   "source": [
    "# 価格の中央値によりA、Bラベルを付ける\n",
    "nb_bins=df_train.loc[:,['Neighborhood','SalePrice']]\n",
    "nb_bins.loc[nb_bins['SalePrice']>=179900,'bins']='A'\n",
    "nb_bins.loc[nb_bins['SalePrice']<179900,'bins']='B'"
   ]
  },
  {
   "cell_type": "code",
   "execution_count": null,
   "metadata": {},
   "outputs": [],
   "source": [
    "# 地域の組み分けリストの作成\n",
    "nb_list=pd.DataFrame()\n",
    "for i in nb_bins['Neighborhood']:\n",
    "    bins = nb_bins.loc[nb_bins['Neighborhood']==i,'bins'].describe()['top']\n",
    "    AP=pd.DataFrame([i,bins]).T\n",
    "    nb_list = nb_list.append(AP)\n",
    "nb_list=nb_list.drop_duplicates()\n",
    "nb_list.index=range(len(nb_list))\n",
    "nb_list.columns=['Neighborhood','bin']\n",
    "nb_list"
   ]
  },
  {
   "cell_type": "code",
   "execution_count": null,
   "metadata": {
    "scrolled": true
   },
   "outputs": [],
   "source": [
    "#　作成されたリストのチェック\n",
    "len(nb_list)==len(df_train['Neighborhood'].value_counts())"
   ]
  },
  {
   "cell_type": "code",
   "execution_count": null,
   "metadata": {
    "collapsed": true
   },
   "outputs": [],
   "source": [
    "def preprocess(train_flg,nb_list):\n",
    "    if train_flg:\n",
    "        df = pd.read_csv('./train.csv')\n",
    "        df.drop(df[df['GrLivArea']>=4000].index,inplace=True)\n",
    "        df_y=df['SalePrice']\n",
    "    else:\n",
    "        df = pd.read_csv('./test.csv')\n",
    "    cols=['GrLivArea','YearBuilt','OverallCond','BsmtQual','Neighborhood']\n",
    "    df_x = df.loc[:,cols]\n",
    "    # 立地を地域リストにより変換\n",
    "    for i in range(len(nb_list)):\n",
    "        df_x.loc[df_x['Neighborhood']==nb_list.loc[i,'Neighborhood'],'Neighborhood'] = nb_list.loc[i,'bin']\n",
    "        \n",
    "    df_x.loc[df_x['BsmtQual'].isnull()==True,'BsmtQual']='NA'\n",
    "    df_x=pd.get_dummies(df_x)\n",
    "    if train_flg:\n",
    "        return df_x,df_y\n",
    "    else:\n",
    "        return df_x,df['Id']"
   ]
  },
  {
   "cell_type": "code",
   "execution_count": null,
   "metadata": {
    "collapsed": true
   },
   "outputs": [],
   "source": [
    "df_x,df_y=preprocess(True,nb_list)"
   ]
  },
  {
   "cell_type": "markdown",
   "metadata": {},
   "source": [
    "## 線形回帰"
   ]
  },
  {
   "cell_type": "code",
   "execution_count": null,
   "metadata": {
    "scrolled": false
   },
   "outputs": [],
   "source": [
    "clf = stat.OLS(df_y,df_x)\n",
    "result = clf.fit()\n",
    "result.summary()"
   ]
  },
  {
   "cell_type": "code",
   "execution_count": null,
   "metadata": {},
   "outputs": [],
   "source": [
    "clf=LinearRegression()\n",
    "clf.fit(df_x,df_y)\n",
    "print('RMSE:{0}'.format(rmse(clf.predict(df_x),df_y)))\n",
    "sns.regplot(clf.predict(df_x),df_y)\n",
    "plt.title('pred vs real')\n",
    "plt.show()\n",
    "coef=pd.Series(clf.coef_, index = df_x.columns)\n",
    "coef.sort_values(ascending=True).plot('barh')\n",
    "plt.title('Coefficients in the Linear Model')"
   ]
  },
  {
   "cell_type": "markdown",
   "metadata": {},
   "source": [
    "# テストセットの予測"
   ]
  },
  {
   "cell_type": "code",
   "execution_count": null,
   "metadata": {
    "collapsed": true
   },
   "outputs": [],
   "source": [
    "df_test_x,df_test_id = preprocess(False,nb_list)"
   ]
  },
  {
   "cell_type": "code",
   "execution_count": null,
   "metadata": {
    "collapsed": true
   },
   "outputs": [],
   "source": [
    "# 上記の線形モデルで価格を予測、CSV出力\n",
    "df_test_x=pd.get_dummies(df_test_x)\n",
    "y_pred=clf.predict(df_test_x)\n",
    "pred_df=pd.DataFrame(y_pred, index=df_test_id, columns=[\"SalePrice\"])\n",
    "pred_df.to_csv('./output.csv', header=True, index_label='Id')"
   ]
  },
  {
   "cell_type": "markdown",
   "metadata": {},
   "source": [
    "# Appendix　変換辞書の作成"
   ]
  },
  {
   "cell_type": "markdown",
   "metadata": {},
   "source": [
    "## 例：販売月（MoSold）"
   ]
  },
  {
   "cell_type": "code",
   "execution_count": null,
   "metadata": {},
   "outputs": [],
   "source": [
    "df_train.groupby(['MoSold']).SalePrice.count().plot('bar')"
   ]
  },
  {
   "cell_type": "code",
   "execution_count": null,
   "metadata": {},
   "outputs": [],
   "source": [
    "mo_bins = {\n",
    "    1:1,\n",
    "    2:1,\n",
    "    3:2,\n",
    "    4:2,\n",
    "    5:3,\n",
    "    6:3,\n",
    "    7:3,\n",
    "    8:2,\n",
    "    9:1,\n",
    "    10:1,\n",
    "    11:1,\n",
    "    12:1\n",
    "}\n",
    "def get_bins(x):\n",
    "    x = mo_bins[x]\n",
    "    return x\n",
    "df_train['MoSold'].apply(get_bins)"
   ]
  },
  {
   "cell_type": "code",
   "execution_count": null,
   "metadata": {
    "collapsed": true
   },
   "outputs": [],
   "source": []
  }
 ],
 "metadata": {
  "kernelspec": {
   "display_name": "Python 3",
   "language": "python",
   "name": "python3"
  },
  "language_info": {
   "codemirror_mode": {
    "name": "ipython",
    "version": 3
   },
   "file_extension": ".py",
   "mimetype": "text/x-python",
   "name": "python",
   "nbconvert_exporter": "python",
   "pygments_lexer": "ipython3",
   "version": "3.6.1"
  }
 },
 "nbformat": 4,
 "nbformat_minor": 2
}
